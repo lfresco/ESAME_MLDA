{
 "cells": [
  {
   "cell_type": "markdown",
   "metadata": {},
   "source": [
    "# ANOVA TEST"
   ]
  },
  {
   "cell_type": "code",
   "execution_count": 1,
   "metadata": {},
   "outputs": [
    {
     "data": {
      "text/plain": [
       "    User_ID            Product_ID     Gender        Age        \n",
       " Min.   :1000001   P00265242:  1858   F:132197   0-17 : 14707  \n",
       " 1st Qu.:1001495   P00110742:  1591   M:405380   18-25: 97634  \n",
       " Median :1003031   P00025442:  1586              26-35:214690  \n",
       " Mean   :1002992   P00112142:  1539              36-45:107499  \n",
       " 3rd Qu.:1004417   P00057642:  1430              46-50: 44526  \n",
       " Max.   :1006040   P00184942:  1424              51-55: 37618  \n",
       "                   (Other)  :528149              55+  : 20903  \n",
       "   Occupation     City_Category Stay_In_Current_City_Years Marital_Status  \n",
       " Min.   : 0.000   A:144638      0 : 72725                  Min.   :0.0000  \n",
       " 1st Qu.: 2.000   B:226493      1 :189192                  1st Qu.:0.0000  \n",
       " Median : 7.000   C:166446      2 : 99459                  Median :0.0000  \n",
       " Mean   : 8.083                 3 : 93312                  Mean   :0.4088  \n",
       " 3rd Qu.:14.000                 4+: 82889                  3rd Qu.:1.0000  \n",
       " Max.   :20.000                                            Max.   :1.0000  \n",
       "                                                                           \n",
       " Product_Category_1 Product_Category_2 Product_Category_3    Purchase    \n",
       " Min.   : 1.000     Min.   : 2.00      Min.   : 3.0       Min.   :  185  \n",
       " 1st Qu.: 1.000     1st Qu.: 5.00      1st Qu.: 9.0       1st Qu.: 5866  \n",
       " Median : 5.000     Median : 9.00      Median :14.0       Median : 8062  \n",
       " Mean   : 5.296     Mean   : 9.84      Mean   :12.7       Mean   : 9334  \n",
       " 3rd Qu.: 8.000     3rd Qu.:15.00      3rd Qu.:16.0       3rd Qu.:12073  \n",
       " Max.   :18.000     Max.   :18.00      Max.   :18.0       Max.   :23961  \n",
       "                    NA's   :166986     NA's   :373299                    "
      ]
     },
     "metadata": {},
     "output_type": "display_data"
    },
    {
     "data": {
      "text/html": [
       "<ol class=list-inline>\n",
       "\t<li>537577</li>\n",
       "\t<li>12</li>\n",
       "</ol>\n"
      ],
      "text/latex": [
       "\\begin{enumerate*}\n",
       "\\item 537577\n",
       "\\item 12\n",
       "\\end{enumerate*}\n"
      ],
      "text/markdown": [
       "1. 537577\n",
       "2. 12\n",
       "\n",
       "\n"
      ],
      "text/plain": [
       "[1] 537577     12"
      ]
     },
     "metadata": {},
     "output_type": "display_data"
    }
   ],
   "source": [
    "dati <- read.csv(\"BlackFriday.csv\", header = TRUE)\n",
    "summary(dati)\n",
    "dim(dati)"
   ]
  },
  {
   "cell_type": "code",
   "execution_count": 2,
   "metadata": {},
   "outputs": [],
   "source": [
    "dati$Gender <- as.factor(dati$Gender)\n",
    "dati$Product_Category_1 <- as.factor(dati$Product_Category_1)\n",
    "dati$Occupation <- as.factor(dati$Occupation)\n",
    "dati$Marital_Status <- as.factor(dati$Marital_Status)\n",
    "dati$City_Category <- as.factor(dati$City_Category)\n",
    "dati$Product_Category_2 <- as.factor(dati$Product_Category_2)\n",
    "dati$Product_Category_3 <- as.factor(dati$Product_Category_3)\n",
    "dati$Age <- as.factor(dati$Age)\n",
    "dati$Stay_In_Current_City_Years <- as.factor(dati$Stay_In_Current_City_Years)"
   ]
  },
  {
   "cell_type": "code",
   "execution_count": 6,
   "metadata": {},
   "outputs": [
    {
     "name": "stderr",
     "output_type": "stream",
     "text": [
      "The following objects are masked from dati (pos = 3):\n",
      "\n",
      "    Age, City_Category, Gender, Marital_Status, Occupation,\n",
      "    Product_Category_1, Product_Category_2, Product_Category_3,\n",
      "    Product_ID, Purchase, Stay_In_Current_City_Years, User_ID\n",
      "\n"
     ]
    }
   ],
   "source": [
    "attach(dati)\n",
    "fit1 <- aov(Purchase ~ Stay_In_Current_City_Years, data=dati)\n",
    "fit2 <- aov(Purchase ~ Gender, data=dati)\n",
    "fit3 <- aov(Purchase ~ Product_Category_1, data=dati)\n",
    "fit4 <- aov(Purchase ~ Occupation, data=dati)\n",
    "fit5 <- aov(Purchase ~ Marital_Status, data=dati)\n",
    "fit6 <- aov(Purchase ~ City_Category, data=dati)\n",
    "fit7 <- aov(Purchase ~ Product_Category_2, data=dati)\n",
    "fit8 <- aov(Purchase ~ Age, data=dati)\n",
    "fit9 <- aov(Purchase ~ Product_Category_3, data=dati)\n",
    "fit10 <- aov(Purchase ~ Gender, data=dati)"
   ]
  },
  {
   "cell_type": "code",
   "execution_count": 7,
   "metadata": {},
   "outputs": [
    {
     "data": {
      "text/plain": [
       "                               Df    Sum Sq   Mean Sq F value   Pr(>F)    \n",
       "Stay_In_Current_City_Years      4 1.026e+09 256572659   10.34 2.26e-08 ***\n",
       "Residuals                  537572 1.334e+13  24808857                     \n",
       "---\n",
       "Signif. codes:  0 '***' 0.001 '**' 0.01 '*' 0.05 '.' 0.1 ' ' 1"
      ]
     },
     "metadata": {},
     "output_type": "display_data"
    }
   ],
   "source": [
    "summary(fit1)"
   ]
  },
  {
   "cell_type": "code",
   "execution_count": 8,
   "metadata": {},
   "outputs": [
    {
     "data": {
      "text/plain": [
       "                Df    Sum Sq   Mean Sq F value Pr(>F)    \n",
       "Gender           1 4.815e+10 4.815e+10    1948 <2e-16 ***\n",
       "Residuals   537575 1.329e+13 2.472e+07                   \n",
       "---\n",
       "Signif. codes:  0 '***' 0.001 '**' 0.01 '*' 0.05 '.' 0.1 ' ' 1"
      ]
     },
     "metadata": {},
     "output_type": "display_data"
    }
   ],
   "source": [
    "summary(fit2)"
   ]
  },
  {
   "cell_type": "code",
   "execution_count": 9,
   "metadata": {},
   "outputs": [
    {
     "data": {
      "text/plain": [
       "                       Df    Sum Sq   Mean Sq F value Pr(>F)    \n",
       "Product_Category_1     17 8.369e+12 4.923e+11   53265 <2e-16 ***\n",
       "Residuals          537559 4.968e+12 9.243e+06                   \n",
       "---\n",
       "Signif. codes:  0 '***' 0.001 '**' 0.01 '*' 0.05 '.' 0.1 ' ' 1"
      ]
     },
     "metadata": {},
     "output_type": "display_data"
    }
   ],
   "source": [
    "summary(fit3)"
   ]
  },
  {
   "cell_type": "code",
   "execution_count": 10,
   "metadata": {},
   "outputs": [
    {
     "data": {
      "text/plain": [
       "                Df    Sum Sq   Mean Sq F value Pr(>F)    \n",
       "Occupation      20 5.089e+10 2.544e+09   102.9 <2e-16 ***\n",
       "Residuals   537556 1.329e+13 2.472e+07                   \n",
       "---\n",
       "Signif. codes:  0 '***' 0.001 '**' 0.01 '*' 0.05 '.' 0.1 ' ' 1"
      ]
     },
     "metadata": {},
     "output_type": "display_data"
    }
   ],
   "source": [
    "summary(fit4)"
   ]
  },
  {
   "cell_type": "code",
   "execution_count": 11,
   "metadata": {},
   "outputs": [
    {
     "data": {
      "text/plain": [
       "                   Df    Sum Sq  Mean Sq F value Pr(>F)\n",
       "Marital_Status      1 2.220e+05   222013   0.009  0.925\n",
       "Residuals      537575 1.334e+13 24810627               "
      ]
     },
     "metadata": {},
     "output_type": "display_data"
    }
   ],
   "source": [
    "summary(fit5)"
   ]
  },
  {
   "cell_type": "code",
   "execution_count": 12,
   "metadata": {},
   "outputs": [
    {
     "data": {
      "text/plain": [
       "                  Df    Sum Sq   Mean Sq F value Pr(>F)    \n",
       "City_Category      2 6.796e+10 3.398e+10    1377 <2e-16 ***\n",
       "Residuals     537574 1.327e+13 2.468e+07                   \n",
       "---\n",
       "Signif. codes:  0 '***' 0.001 '**' 0.01 '*' 0.05 '.' 0.1 ' ' 1"
      ]
     },
     "metadata": {},
     "output_type": "display_data"
    }
   ],
   "source": [
    "summary(fit6)"
   ]
  },
  {
   "cell_type": "code",
   "execution_count": 13,
   "metadata": {},
   "outputs": [
    {
     "data": {
      "text/plain": [
       "                       Df    Sum Sq   Mean Sq F value Pr(>F)    \n",
       "Product_Category_2     16 1.382e+12 8.640e+10    3728 <2e-16 ***\n",
       "Residuals          370574 8.590e+12 2.318e+07                   \n",
       "---\n",
       "Signif. codes:  0 '***' 0.001 '**' 0.01 '*' 0.05 '.' 0.1 ' ' 1\n",
       "166986 observations deleted due to missingness"
      ]
     },
     "metadata": {},
     "output_type": "display_data"
    }
   ],
   "source": [
    "summary(fit7)"
   ]
  },
  {
   "cell_type": "code",
   "execution_count": 14,
   "metadata": {},
   "outputs": [
    {
     "data": {
      "text/plain": [
       "                Df    Sum Sq   Mean Sq F value Pr(>F)    \n",
       "Age              6 6.471e+09 1.078e+09   43.49 <2e-16 ***\n",
       "Residuals   537570 1.333e+13 2.480e+07                   \n",
       "---\n",
       "Signif. codes:  0 '***' 0.001 '**' 0.01 '*' 0.05 '.' 0.1 ' ' 1"
      ]
     },
     "metadata": {},
     "output_type": "display_data"
    }
   ],
   "source": [
    "summary(fit8)"
   ]
  },
  {
   "cell_type": "code",
   "execution_count": 15,
   "metadata": {},
   "outputs": [
    {
     "data": {
      "text/plain": [
       "                       Df    Sum Sq   Mean Sq F value Pr(>F)    \n",
       "Product_Category_3     14 2.276e+11 1.626e+10   665.2 <2e-16 ***\n",
       "Residuals          164263 4.014e+12 2.444e+07                   \n",
       "---\n",
       "Signif. codes:  0 '***' 0.001 '**' 0.01 '*' 0.05 '.' 0.1 ' ' 1\n",
       "373299 observations deleted due to missingness"
      ]
     },
     "metadata": {},
     "output_type": "display_data"
    }
   ],
   "source": [
    "summary(fit9)"
   ]
  },
  {
   "cell_type": "code",
   "execution_count": 16,
   "metadata": {},
   "outputs": [
    {
     "data": {
      "text/plain": [
       "                Df    Sum Sq   Mean Sq F value Pr(>F)    \n",
       "Gender           1 4.815e+10 4.815e+10    1948 <2e-16 ***\n",
       "Residuals   537575 1.329e+13 2.472e+07                   \n",
       "---\n",
       "Signif. codes:  0 '***' 0.001 '**' 0.01 '*' 0.05 '.' 0.1 ' ' 1"
      ]
     },
     "metadata": {},
     "output_type": "display_data"
    }
   ],
   "source": [
    "summary(fit10)"
   ]
  },
  {
   "cell_type": "code",
   "execution_count": null,
   "metadata": {},
   "outputs": [],
   "source": []
  }
 ],
 "metadata": {
  "kernelspec": {
   "display_name": "R",
   "language": "R",
   "name": "ir"
  },
  "language_info": {
   "codemirror_mode": "r",
   "file_extension": ".r",
   "mimetype": "text/x-r-source",
   "name": "R",
   "pygments_lexer": "r",
   "version": "3.5.1"
  }
 },
 "nbformat": 4,
 "nbformat_minor": 2
}

{
 "cells": [
  {
   "cell_type": "markdown",
   "metadata": {},
   "source": [
    "# PROGETTO BLACK FRIDAY"
   ]
  },
  {
   "cell_type": "markdown",
   "metadata": {},
   "source": [
    "Come prima cosa importiamo il dataset. \n"
   ]
  },
  {
   "cell_type": "code",
   "execution_count": 1,
   "metadata": {
    "scrolled": true
   },
   "outputs": [
    {
     "data": {
      "text/plain": [
       "    User_ID            Product_ID     Gender        Age        \n",
       " Min.   :1000001   P00265242:  1858   F:132197   0-17 : 14707  \n",
       " 1st Qu.:1001495   P00110742:  1591   M:405380   18-25: 97634  \n",
       " Median :1003031   P00025442:  1586              26-35:214690  \n",
       " Mean   :1002992   P00112142:  1539              36-45:107499  \n",
       " 3rd Qu.:1004417   P00057642:  1430              46-50: 44526  \n",
       " Max.   :1006040   P00184942:  1424              51-55: 37618  \n",
       "                   (Other)  :528149              55+  : 20903  \n",
       "   Occupation     City_Category Stay_In_Current_City_Years Marital_Status  \n",
       " Min.   : 0.000   A:144638      0 : 72725                  Min.   :0.0000  \n",
       " 1st Qu.: 2.000   B:226493      1 :189192                  1st Qu.:0.0000  \n",
       " Median : 7.000   C:166446      2 : 99459                  Median :0.0000  \n",
       " Mean   : 8.083                 3 : 93312                  Mean   :0.4088  \n",
       " 3rd Qu.:14.000                 4+: 82889                  3rd Qu.:1.0000  \n",
       " Max.   :20.000                                            Max.   :1.0000  \n",
       "                                                                           \n",
       " Product_Category_1 Product_Category_2 Product_Category_3    Purchase    \n",
       " Min.   : 1.000     Min.   : 2.00      Min.   : 3.0       Min.   :  185  \n",
       " 1st Qu.: 1.000     1st Qu.: 5.00      1st Qu.: 9.0       1st Qu.: 5866  \n",
       " Median : 5.000     Median : 9.00      Median :14.0       Median : 8062  \n",
       " Mean   : 5.296     Mean   : 9.84      Mean   :12.7       Mean   : 9334  \n",
       " 3rd Qu.: 8.000     3rd Qu.:15.00      3rd Qu.:16.0       3rd Qu.:12073  \n",
       " Max.   :18.000     Max.   :18.00      Max.   :18.0       Max.   :23961  \n",
       "                    NA's   :166986     NA's   :373299                    "
      ]
     },
     "metadata": {},
     "output_type": "display_data"
    },
    {
     "data": {
      "text/html": [
       "<ol class=list-inline>\n",
       "\t<li>537577</li>\n",
       "\t<li>12</li>\n",
       "</ol>\n"
      ],
      "text/latex": [
       "\\begin{enumerate*}\n",
       "\\item 537577\n",
       "\\item 12\n",
       "\\end{enumerate*}\n"
      ],
      "text/markdown": [
       "1. 537577\n",
       "2. 12\n",
       "\n",
       "\n"
      ],
      "text/plain": [
       "[1] 537577     12"
      ]
     },
     "metadata": {},
     "output_type": "display_data"
    }
   ],
   "source": [
    "dati <- read.csv(\"BlackFriday.csv\", header = TRUE)\n",
    "summary(dati)\n",
    "dim(dati)"
   ]
  },
  {
   "cell_type": "code",
   "execution_count": 2,
   "metadata": {},
   "outputs": [
    {
     "data": {
      "text/html": [
       "<dl class=dl-horizontal>\n",
       "\t<dt>1</dt>\n",
       "\t\t<dd>138353</dd>\n",
       "\t<dt>2</dt>\n",
       "\t\t<dd>23499</dd>\n",
       "\t<dt>3</dt>\n",
       "\t\t<dd>19849</dd>\n",
       "\t<dt>4</dt>\n",
       "\t\t<dd>11567</dd>\n",
       "\t<dt>5</dt>\n",
       "\t\t<dd>148592</dd>\n",
       "\t<dt>6</dt>\n",
       "\t\t<dd>20164</dd>\n",
       "\t<dt>7</dt>\n",
       "\t\t<dd>3668</dd>\n",
       "\t<dt>8</dt>\n",
       "\t\t<dd>112132</dd>\n",
       "\t<dt>9</dt>\n",
       "\t\t<dd>404</dd>\n",
       "\t<dt>10</dt>\n",
       "\t\t<dd>5032</dd>\n",
       "\t<dt>11</dt>\n",
       "\t\t<dd>23960</dd>\n",
       "\t<dt>12</dt>\n",
       "\t\t<dd>3875</dd>\n",
       "\t<dt>13</dt>\n",
       "\t\t<dd>5440</dd>\n",
       "\t<dt>14</dt>\n",
       "\t\t<dd>1500</dd>\n",
       "\t<dt>15</dt>\n",
       "\t\t<dd>6203</dd>\n",
       "\t<dt>16</dt>\n",
       "\t\t<dd>9697</dd>\n",
       "\t<dt>17</dt>\n",
       "\t\t<dd>567</dd>\n",
       "\t<dt>18</dt>\n",
       "\t\t<dd>3075</dd>\n",
       "</dl>\n"
      ],
      "text/latex": [
       "\\begin{description*}\n",
       "\\item[1] 138353\n",
       "\\item[2] 23499\n",
       "\\item[3] 19849\n",
       "\\item[4] 11567\n",
       "\\item[5] 148592\n",
       "\\item[6] 20164\n",
       "\\item[7] 3668\n",
       "\\item[8] 112132\n",
       "\\item[9] 404\n",
       "\\item[10] 5032\n",
       "\\item[11] 23960\n",
       "\\item[12] 3875\n",
       "\\item[13] 5440\n",
       "\\item[14] 1500\n",
       "\\item[15] 6203\n",
       "\\item[16] 9697\n",
       "\\item[17] 567\n",
       "\\item[18] 3075\n",
       "\\end{description*}\n"
      ],
      "text/markdown": [
       "1\n",
       ":   1383532\n",
       ":   234993\n",
       ":   198494\n",
       ":   115675\n",
       ":   1485926\n",
       ":   201647\n",
       ":   36688\n",
       ":   1121329\n",
       ":   40410\n",
       ":   503211\n",
       ":   2396012\n",
       ":   387513\n",
       ":   544014\n",
       ":   150015\n",
       ":   620316\n",
       ":   969717\n",
       ":   56718\n",
       ":   3075\n",
       "\n"
      ],
      "text/plain": [
       "     1      2      3      4      5      6      7      8      9     10     11 \n",
       "138353  23499  19849  11567 148592  20164   3668 112132    404   5032  23960 \n",
       "    12     13     14     15     16     17     18 \n",
       "  3875   5440   1500   6203   9697    567   3075 "
      ]
     },
     "metadata": {},
     "output_type": "display_data"
    }
   ],
   "source": [
    "dati$Product_Category_1 <- as.factor(dati$Product_Category_1)\n",
    "summary(dati$P)"
   ]
  },
  {
   "cell_type": "code",
   "execution_count": 3,
   "metadata": {
    "scrolled": true
   },
   "outputs": [
    {
     "data": {
      "text/html": [
       "<dl class=dl-horizontal>\n",
       "\t<dt>2</dt>\n",
       "\t\t<dd>48481</dd>\n",
       "\t<dt>3</dt>\n",
       "\t\t<dd>2835</dd>\n",
       "\t<dt>4</dt>\n",
       "\t\t<dd>25225</dd>\n",
       "\t<dt>5</dt>\n",
       "\t\t<dd>25874</dd>\n",
       "\t<dt>6</dt>\n",
       "\t\t<dd>16251</dd>\n",
       "\t<dt>7</dt>\n",
       "\t\t<dd>615</dd>\n",
       "\t<dt>8</dt>\n",
       "\t\t<dd>63058</dd>\n",
       "\t<dt>9</dt>\n",
       "\t\t<dd>5591</dd>\n",
       "\t<dt>10</dt>\n",
       "\t\t<dd>2991</dd>\n",
       "\t<dt>11</dt>\n",
       "\t\t<dd>13945</dd>\n",
       "\t<dt>12</dt>\n",
       "\t\t<dd>5419</dd>\n",
       "\t<dt>13</dt>\n",
       "\t\t<dd>10369</dd>\n",
       "\t<dt>14</dt>\n",
       "\t\t<dd>54158</dd>\n",
       "\t<dt>15</dt>\n",
       "\t\t<dd>37317</dd>\n",
       "\t<dt>16</dt>\n",
       "\t\t<dd>42602</dd>\n",
       "\t<dt>17</dt>\n",
       "\t\t<dd>13130</dd>\n",
       "\t<dt>18</dt>\n",
       "\t\t<dd>2730</dd>\n",
       "\t<dt>NA's</dt>\n",
       "\t\t<dd>166986</dd>\n",
       "</dl>\n"
      ],
      "text/latex": [
       "\\begin{description*}\n",
       "\\item[2] 48481\n",
       "\\item[3] 2835\n",
       "\\item[4] 25225\n",
       "\\item[5] 25874\n",
       "\\item[6] 16251\n",
       "\\item[7] 615\n",
       "\\item[8] 63058\n",
       "\\item[9] 5591\n",
       "\\item[10] 2991\n",
       "\\item[11] 13945\n",
       "\\item[12] 5419\n",
       "\\item[13] 10369\n",
       "\\item[14] 54158\n",
       "\\item[15] 37317\n",
       "\\item[16] 42602\n",
       "\\item[17] 13130\n",
       "\\item[18] 2730\n",
       "\\item[NA's] 166986\n",
       "\\end{description*}\n"
      ],
      "text/markdown": [
       "2\n",
       ":   484813\n",
       ":   28354\n",
       ":   252255\n",
       ":   258746\n",
       ":   162517\n",
       ":   6158\n",
       ":   630589\n",
       ":   559110\n",
       ":   299111\n",
       ":   1394512\n",
       ":   541913\n",
       ":   1036914\n",
       ":   5415815\n",
       ":   3731716\n",
       ":   4260217\n",
       ":   1313018\n",
       ":   2730NA's\n",
       ":   166986\n",
       "\n"
      ],
      "text/plain": [
       "     2      3      4      5      6      7      8      9     10     11     12 \n",
       " 48481   2835  25225  25874  16251    615  63058   5591   2991  13945   5419 \n",
       "    13     14     15     16     17     18   NA's \n",
       " 10369  54158  37317  42602  13130   2730 166986 "
      ]
     },
     "metadata": {},
     "output_type": "display_data"
    }
   ],
   "source": [
    "dati$Product_Category_2 <- as.factor(dati$Product_Category_2)\n",
    "summary(dati$Product_Category_2)"
   ]
  },
  {
   "cell_type": "code",
   "execution_count": 4,
   "metadata": {},
   "outputs": [
    {
     "data": {
      "text/html": [
       "<dl class=dl-horizontal>\n",
       "\t<dt>3</dt>\n",
       "\t\t<dd>600</dd>\n",
       "\t<dt>4</dt>\n",
       "\t\t<dd>1840</dd>\n",
       "\t<dt>5</dt>\n",
       "\t\t<dd>16380</dd>\n",
       "\t<dt>6</dt>\n",
       "\t\t<dd>4818</dd>\n",
       "\t<dt>8</dt>\n",
       "\t\t<dd>12384</dd>\n",
       "\t<dt>9</dt>\n",
       "\t\t<dd>11414</dd>\n",
       "\t<dt>10</dt>\n",
       "\t\t<dd>1698</dd>\n",
       "\t<dt>11</dt>\n",
       "\t\t<dd>1773</dd>\n",
       "\t<dt>12</dt>\n",
       "\t\t<dd>9094</dd>\n",
       "\t<dt>13</dt>\n",
       "\t\t<dd>5385</dd>\n",
       "\t<dt>14</dt>\n",
       "\t\t<dd>18121</dd>\n",
       "\t<dt>15</dt>\n",
       "\t\t<dd>27611</dd>\n",
       "\t<dt>16</dt>\n",
       "\t\t<dd>32148</dd>\n",
       "\t<dt>17</dt>\n",
       "\t\t<dd>16449</dd>\n",
       "\t<dt>18</dt>\n",
       "\t\t<dd>4563</dd>\n",
       "\t<dt>NA's</dt>\n",
       "\t\t<dd>373299</dd>\n",
       "</dl>\n"
      ],
      "text/latex": [
       "\\begin{description*}\n",
       "\\item[3] 600\n",
       "\\item[4] 1840\n",
       "\\item[5] 16380\n",
       "\\item[6] 4818\n",
       "\\item[8] 12384\n",
       "\\item[9] 11414\n",
       "\\item[10] 1698\n",
       "\\item[11] 1773\n",
       "\\item[12] 9094\n",
       "\\item[13] 5385\n",
       "\\item[14] 18121\n",
       "\\item[15] 27611\n",
       "\\item[16] 32148\n",
       "\\item[17] 16449\n",
       "\\item[18] 4563\n",
       "\\item[NA's] 373299\n",
       "\\end{description*}\n"
      ],
      "text/markdown": [
       "3\n",
       ":   6004\n",
       ":   18405\n",
       ":   163806\n",
       ":   48188\n",
       ":   123849\n",
       ":   1141410\n",
       ":   169811\n",
       ":   177312\n",
       ":   909413\n",
       ":   538514\n",
       ":   1812115\n",
       ":   2761116\n",
       ":   3214817\n",
       ":   1644918\n",
       ":   4563NA's\n",
       ":   373299\n",
       "\n"
      ],
      "text/plain": [
       "     3      4      5      6      8      9     10     11     12     13     14 \n",
       "   600   1840  16380   4818  12384  11414   1698   1773   9094   5385  18121 \n",
       "    15     16     17     18   NA's \n",
       " 27611  32148  16449   4563 373299 "
      ]
     },
     "metadata": {},
     "output_type": "display_data"
    }
   ],
   "source": [
    "dati$Product_Category_3 <- as.factor(dati$Product_Category_3)\n",
    "summary(dati$Product_Category_3)"
   ]
  },
  {
   "cell_type": "markdown",
   "metadata": {},
   "source": [
    "Vediamo un po' quali variabili abbiamo:\n",
    "- User_ID = codice identificativo del cliente (magari vedere se un cliente ha acquistato più volte o se sono tutti diversi)\n",
    "- Product_ID = codice identificativo del prodotto acquistato (anche qua potrebbe essere interessante vedere quanti prodotti diversi ci sono)\n",
    "- Gender = genere del cliente\n",
    "- Age = classi di età (questo vuol dire che il problema 4 è unn problema di classificazione. )\n",
    "- Occupation =  lavoro del cliente. Cercare di capire cosa cazzo vuol dire che è numerica\n",
    "- City_Category =  wtf? Potrebbe essere grande - media - piccola (?!)\n",
    "- Stay_In_Current_City_Years =  quanti anni è stato il cliente nella città in cui risiede. Variabile categorica. \n",
    "- \n",
    "- \n"
   ]
  },
  {
   "cell_type": "code",
   "execution_count": 12,
   "metadata": {
    "scrolled": true
   },
   "outputs": [
    {
     "data": {
      "text/html": [
       "<table>\n",
       "<thead><tr><th scope=col>User_ID</th><th scope=col>Product_ID</th><th scope=col>Gender</th><th scope=col>Age</th><th scope=col>Occupation</th><th scope=col>City_Category</th><th scope=col>Stay_In_Current_City_Years</th><th scope=col>Marital_Status</th><th scope=col>Product_Category_1</th><th scope=col>Product_Category_2</th><th scope=col>Product_Category_3</th><th scope=col>Purchase</th></tr></thead>\n",
       "<tbody>\n",
       "\t<tr><td>1000001  </td><td>P00069042</td><td>F        </td><td>0-17     </td><td>10       </td><td>A        </td><td>2        </td><td>0        </td><td> 3       </td><td>NA       </td><td>NA       </td><td> 8370    </td></tr>\n",
       "\t<tr><td>1000001  </td><td>P00248942</td><td>F        </td><td>0-17     </td><td>10       </td><td>A        </td><td>2        </td><td>0        </td><td> 1       </td><td> 6       </td><td>14       </td><td>15200    </td></tr>\n",
       "\t<tr><td>1000001  </td><td>P00087842</td><td>F        </td><td>0-17     </td><td>10       </td><td>A        </td><td>2        </td><td>0        </td><td>12       </td><td>NA       </td><td>NA       </td><td> 1422    </td></tr>\n",
       "\t<tr><td>1000001  </td><td>P00085442</td><td>F        </td><td>0-17     </td><td>10       </td><td>A        </td><td>2        </td><td>0        </td><td>12       </td><td>14       </td><td>NA       </td><td> 1057    </td></tr>\n",
       "\t<tr><td>1000002  </td><td>P00285442</td><td>M        </td><td>55+      </td><td>16       </td><td>C        </td><td>4+       </td><td>0        </td><td> 8       </td><td>NA       </td><td>NA       </td><td> 7969    </td></tr>\n",
       "\t<tr><td>1000003  </td><td>P00193542</td><td>M        </td><td>26-35    </td><td>15       </td><td>A        </td><td>3        </td><td>0        </td><td> 1       </td><td> 2       </td><td>NA       </td><td>15227    </td></tr>\n",
       "</tbody>\n",
       "</table>\n"
      ],
      "text/latex": [
       "\\begin{tabular}{r|llllllllllll}\n",
       " User\\_ID & Product\\_ID & Gender & Age & Occupation & City\\_Category & Stay\\_In\\_Current\\_City\\_Years & Marital\\_Status & Product\\_Category\\_1 & Product\\_Category\\_2 & Product\\_Category\\_3 & Purchase\\\\\n",
       "\\hline\n",
       "\t 1000001   & P00069042 & F         & 0-17      & 10        & A         & 2         & 0         &  3        & NA        & NA        &  8370    \\\\\n",
       "\t 1000001   & P00248942 & F         & 0-17      & 10        & A         & 2         & 0         &  1        &  6        & 14        & 15200    \\\\\n",
       "\t 1000001   & P00087842 & F         & 0-17      & 10        & A         & 2         & 0         & 12        & NA        & NA        &  1422    \\\\\n",
       "\t 1000001   & P00085442 & F         & 0-17      & 10        & A         & 2         & 0         & 12        & 14        & NA        &  1057    \\\\\n",
       "\t 1000002   & P00285442 & M         & 55+       & 16        & C         & 4+        & 0         &  8        & NA        & NA        &  7969    \\\\\n",
       "\t 1000003   & P00193542 & M         & 26-35     & 15        & A         & 3         & 0         &  1        &  2        & NA        & 15227    \\\\\n",
       "\\end{tabular}\n"
      ],
      "text/markdown": [
       "\n",
       "User_ID | Product_ID | Gender | Age | Occupation | City_Category | Stay_In_Current_City_Years | Marital_Status | Product_Category_1 | Product_Category_2 | Product_Category_3 | Purchase | \n",
       "|---|---|---|---|---|---|\n",
       "| 1000001   | P00069042 | F         | 0-17      | 10        | A         | 2         | 0         |  3        | NA        | NA        |  8370     | \n",
       "| 1000001   | P00248942 | F         | 0-17      | 10        | A         | 2         | 0         |  1        |  6        | 14        | 15200     | \n",
       "| 1000001   | P00087842 | F         | 0-17      | 10        | A         | 2         | 0         | 12        | NA        | NA        |  1422     | \n",
       "| 1000001   | P00085442 | F         | 0-17      | 10        | A         | 2         | 0         | 12        | 14        | NA        |  1057     | \n",
       "| 1000002   | P00285442 | M         | 55+       | 16        | C         | 4+        | 0         |  8        | NA        | NA        |  7969     | \n",
       "| 1000003   | P00193542 | M         | 26-35     | 15        | A         | 3         | 0         |  1        |  2        | NA        | 15227     | \n",
       "\n",
       "\n"
      ],
      "text/plain": [
       "  User_ID Product_ID Gender Age   Occupation City_Category\n",
       "1 1000001 P00069042  F      0-17  10         A            \n",
       "2 1000001 P00248942  F      0-17  10         A            \n",
       "3 1000001 P00087842  F      0-17  10         A            \n",
       "4 1000001 P00085442  F      0-17  10         A            \n",
       "5 1000002 P00285442  M      55+   16         C            \n",
       "6 1000003 P00193542  M      26-35 15         A            \n",
       "  Stay_In_Current_City_Years Marital_Status Product_Category_1\n",
       "1 2                          0               3                \n",
       "2 2                          0               1                \n",
       "3 2                          0              12                \n",
       "4 2                          0              12                \n",
       "5 4+                         0               8                \n",
       "6 3                          0               1                \n",
       "  Product_Category_2 Product_Category_3 Purchase\n",
       "1 NA                 NA                  8370   \n",
       "2  6                 14                 15200   \n",
       "3 NA                 NA                  1422   \n",
       "4 14                 NA                  1057   \n",
       "5 NA                 NA                  7969   \n",
       "6  2                 NA                 15227   "
      ]
     },
     "metadata": {},
     "output_type": "display_data"
    }
   ],
   "source": [
    "head(dati)"
   ]
  },
  {
   "cell_type": "markdown",
   "metadata": {},
   "source": [
    "Guardando i dati così dall'alto possiamo vedere come ci siano dei dati mancanti. Per poter capire meglio quali e quanti siano andiamo a fare un po' di conti. \n"
   ]
  },
  {
   "cell_type": "code",
   "execution_count": 13,
   "metadata": {},
   "outputs": [
    {
     "data": {
      "text/html": [
       "<ol class=list-inline>\n",
       "\t<li>537577</li>\n",
       "\t<li>12</li>\n",
       "</ol>\n"
      ],
      "text/latex": [
       "\\begin{enumerate*}\n",
       "\\item 537577\n",
       "\\item 12\n",
       "\\end{enumerate*}\n"
      ],
      "text/markdown": [
       "1. 537577\n",
       "2. 12\n",
       "\n",
       "\n"
      ],
      "text/plain": [
       "[1] 537577     12"
      ]
     },
     "metadata": {},
     "output_type": "display_data"
    }
   ],
   "source": [
    "dim(dati)"
   ]
  },
  {
   "cell_type": "markdown",
   "metadata": {},
   "source": [
    "## VALORI MANCANTI"
   ]
  },
  {
   "cell_type": "code",
   "execution_count": 14,
   "metadata": {},
   "outputs": [
    {
     "name": "stdout",
     "output_type": "stream",
     "text": [
      "[1] \"User_ID 0\"\n",
      "[1] \"Product_ID 0\"\n",
      "[1] \"Gender 0\"\n",
      "[1] \"Age 0\"\n",
      "[1] \"Occupation 0\"\n",
      "[1] \"City_Category 0\"\n",
      "[1] \"Stay_In_Current_City_Years 0\"\n",
      "[1] \"Marital_Status 0\"\n",
      "[1] \"Product_Category_1 0\"\n",
      "[1] \"Product_Category_2 166986\"\n",
      "[1] \"Product_Category_3 373299\"\n",
      "[1] \"Purchase 0\"\n"
     ]
    }
   ],
   "source": [
    "missing_values = rep(0,12)\n",
    "for(i in 1:12){\n",
    "   missing_values[i] = sum(is.na(dati[,i]))\n",
    "\n",
    "}\n",
    "for(i in 1:12){\n",
    "    print(paste(colnames(dati)[i],missing_values[i]))\n",
    "}"
   ]
  },
  {
   "cell_type": "markdown",
   "metadata": {},
   "source": [
    "Quindi le uniche colonne che presentano valori mancanti sono le colonne Product_Category2 e Product_Category3. Ma quanti sono in totale questi missing values in percentuale?"
   ]
  },
  {
   "cell_type": "code",
   "execution_count": 15,
   "metadata": {},
   "outputs": [],
   "source": [
    "n = dim(dati)[1]\n"
   ]
  },
  {
   "cell_type": "code",
   "execution_count": 16,
   "metadata": {},
   "outputs": [
    {
     "name": "stdout",
     "output_type": "stream",
     "text": [
      "Total rows:  537577 \n",
      " Prod 2 missing:  31.06271 % \n",
      " Prod 3 missing:  69.44103 % \n"
     ]
    }
   ],
   "source": [
    "percentuale2 = sum(is.na(dati$Product_Category_2)) / n\n",
    "percentuale3 = sum(is.na(dati$Product_Category_3)) / n\n",
    "cat(\"Total rows: \", n,\"\\n\",\"Prod 2 missing: \", percentuale2 * 100,\"% \\n\",\n",
    "   \"Prod 3 missing: \", percentuale3 * 100, \"% \\n\")"
   ]
  },
  {
   "cell_type": "markdown",
   "metadata": {},
   "source": [
    "Nella colonna \"Product_Category_3\" abbiamo una mancanza di circa il 70 %. Occorre tenerne conto nel caso in cui volessimo usare questa viariabile. Magari si potrebbe vedere in base a Prod 1 e Prod 2 come sono i valori della Cat 3 (una sorta di problema di classificazione interno al problema più grande)."
   ]
  },
  {
   "cell_type": "markdown",
   "metadata": {},
   "source": [
    "Un'altra cosa interessante per quanto riguarda l'analisi delle variabili Product_Category_x potrebbe essere quello di vedere qual è il numero di categorie \"uniche\"."
   ]
  },
  {
   "cell_type": "code",
   "execution_count": 17,
   "metadata": {},
   "outputs": [
    {
     "name": "stderr",
     "output_type": "stream",
     "text": [
      "Warning message:\n",
      "\"package 'tidyverse' was built under R version 3.5.2\""
     ]
    },
    {
     "ename": "ERROR",
     "evalue": "Error: package or namespace load failed for 'tidyverse' in loadNamespace(j <- i[[1L]], c(lib.loc, .libPaths()), versionCheck = vI[[j]]):\n there is no package called 'lattice'\n",
     "output_type": "error",
     "traceback": [
      "Error: package or namespace load failed for 'tidyverse' in loadNamespace(j <- i[[1L]], c(lib.loc, .libPaths()), versionCheck = vI[[j]]):\n there is no package called 'lattice'\nTraceback:\n",
      "1. library(tidyverse)",
      "2. tryCatch({\n .     attr(package, \"LibPath\") <- which.lib.loc\n .     ns <- loadNamespace(package, lib.loc)\n .     env <- attachNamespace(ns, pos = pos, deps)\n . }, error = function(e) {\n .     P <- if (!is.null(cc <- conditionCall(e))) \n .         paste(\" in\", deparse(cc)[1L])\n .     else \"\"\n .     msg <- gettextf(\"package or namespace load failed for %s%s:\\n %s\", \n .         sQuote(package), P, conditionMessage(e))\n .     if (logical.return) \n .         message(paste(\"Error:\", msg), domain = NA)\n .     else stop(msg, call. = FALSE, domain = NA)\n . })",
      "3. tryCatchList(expr, classes, parentenv, handlers)",
      "4. tryCatchOne(expr, names, parentenv, handlers[[1L]])",
      "5. value[[3L]](cond)",
      "6. stop(msg, call. = FALSE, domain = NA)"
     ]
    }
   ],
   "source": [
    "#install.packages(\"data.table\",repos = \"http://cran.us.r-project.org\")\n",
    "#library(data.table)\n",
    "#install.packages(\"tidyverse\",repos = \"http://cran.us.r-project.org\")\n",
    "library(tidyverse)"
   ]
  },
  {
   "cell_type": "code",
   "execution_count": null,
   "metadata": {},
   "outputs": [],
   "source": [
    "dati %>% \n",
    "    as.tibble() %>% \n",
    "    count(Product_Category_2)"
   ]
  },
  {
   "cell_type": "code",
   "execution_count": null,
   "metadata": {},
   "outputs": [],
   "source": [
    "dati %>% \n",
    "    as.tibble() %>% \n",
    "    count(Product_Category_3)"
   ]
  },
  {
   "cell_type": "code",
   "execution_count": null,
   "metadata": {
    "scrolled": true
   },
   "outputs": [],
   "source": [
    "dati %>% \n",
    "    as.tibble() %>% \n",
    "    count(Product_Category_1,Product_Category_2,Product_Category_3)"
   ]
  },
  {
   "cell_type": "markdown",
   "metadata": {},
   "source": [
    "Possiamo vedere che i valori per le varie categorie cominciano da 1 quindi è possibile utilizzare 0 come valore per le missing informations in modo da poter utilizzare valori numerici. "
   ]
  },
  {
   "cell_type": "code",
   "execution_count": 18,
   "metadata": {},
   "outputs": [
    {
     "name": "stderr",
     "output_type": "stream",
     "text": [
      "Warning message:\n",
      "\"package 'OpasnetUtils' was built under R version 3.5.2\""
     ]
    },
    {
     "ename": "ERROR",
     "evalue": "Error: package or namespace load failed for 'OpasnetUtils' in loadNamespace(i, c(lib.loc, .libPaths()), versionCheck = vI[[i]]):\n there is no package called 'lattice'\n",
     "output_type": "error",
     "traceback": [
      "Error: package or namespace load failed for 'OpasnetUtils' in loadNamespace(i, c(lib.loc, .libPaths()), versionCheck = vI[[i]]):\n there is no package called 'lattice'\nTraceback:\n",
      "1. library(OpasnetUtils)",
      "2. tryCatch({\n .     attr(package, \"LibPath\") <- which.lib.loc\n .     ns <- loadNamespace(package, lib.loc)\n .     env <- attachNamespace(ns, pos = pos, deps)\n . }, error = function(e) {\n .     P <- if (!is.null(cc <- conditionCall(e))) \n .         paste(\" in\", deparse(cc)[1L])\n .     else \"\"\n .     msg <- gettextf(\"package or namespace load failed for %s%s:\\n %s\", \n .         sQuote(package), P, conditionMessage(e))\n .     if (logical.return) \n .         message(paste(\"Error:\", msg), domain = NA)\n .     else stop(msg, call. = FALSE, domain = NA)\n . })",
      "3. tryCatchList(expr, classes, parentenv, handlers)",
      "4. tryCatchOne(expr, names, parentenv, handlers[[1L]])",
      "5. value[[3L]](cond)",
      "6. stop(msg, call. = FALSE, domain = NA)"
     ]
    }
   ],
   "source": [
    "#install.packages(\"OpasnetUtils\",repos = \"http://cran.us.r-project.org\")\n",
    "library(OpasnetUtils)"
   ]
  },
  {
   "cell_type": "code",
   "execution_count": 19,
   "metadata": {
    "scrolled": true
   },
   "outputs": [],
   "source": [
    " dati[is.na(dati)] <- 0"
   ]
  },
  {
   "cell_type": "markdown",
   "metadata": {},
   "source": [
    "## DATA TYPES AND REPRESENTATION"
   ]
  },
  {
   "cell_type": "markdown",
   "metadata": {},
   "source": [
    "Quello che occorre fare ora è andare a studiare le altre variabili per cercare di capire un po' come sono distribuite e di quale tipo sono. Così facendo si avranno più informazioni che saranno utili nella risoluzione del problema. "
   ]
  },
  {
   "cell_type": "markdown",
   "metadata": {},
   "source": [
    "### User_ID and Product_ID"
   ]
  },
  {
   "cell_type": "markdown",
   "metadata": {},
   "source": [
    "In questo caso abbiamo dei codici (il che vuol dire che potremmo considerare questa variabile categorica.) Per avere qualche informazione in più potremmo andare a vedere quanti sono i valori unici all'interno di queste due colonne della matrice."
   ]
  },
  {
   "cell_type": "code",
   "execution_count": 20,
   "metadata": {},
   "outputs": [
    {
     "data": {
      "text/html": [
       "5891"
      ],
      "text/latex": [
       "5891"
      ],
      "text/markdown": [
       "5891"
      ],
      "text/plain": [
       "[1] 5891"
      ]
     },
     "metadata": {},
     "output_type": "display_data"
    },
    {
     "data": {
      "text/html": [
       "3623"
      ],
      "text/latex": [
       "3623"
      ],
      "text/markdown": [
       "3623"
      ],
      "text/plain": [
       "[1] 3623"
      ]
     },
     "metadata": {},
     "output_type": "display_data"
    },
    {
     "data": {
      "text/html": [
       "<ol class=list-inline>\n",
       "\t<li>1000001</li>\n",
       "\t<li>1000002</li>\n",
       "\t<li>1000003</li>\n",
       "\t<li>1000004</li>\n",
       "\t<li>1000005</li>\n",
       "\t<li>1000006</li>\n",
       "</ol>\n"
      ],
      "text/latex": [
       "\\begin{enumerate*}\n",
       "\\item 1000001\n",
       "\\item 1000002\n",
       "\\item 1000003\n",
       "\\item 1000004\n",
       "\\item 1000005\n",
       "\\item 1000006\n",
       "\\end{enumerate*}\n"
      ],
      "text/markdown": [
       "1. 1000001\n",
       "2. 1000002\n",
       "3. 1000003\n",
       "4. 1000004\n",
       "5. 1000005\n",
       "6. 1000006\n",
       "\n",
       "\n"
      ],
      "text/plain": [
       "[1] 1000001 1000002 1000003 1000004 1000005 1000006"
      ]
     },
     "metadata": {},
     "output_type": "display_data"
    }
   ],
   "source": [
    "clienti_unici <- unique(dati$User_ID)\n",
    "prodotti_unici <- unique(dati$Product_ID)\n",
    "\n",
    "length(clienti_unici)\n",
    "length(prodotti_unici)\n",
    "\n",
    "head(clienti_unici)"
   ]
  },
  {
   "cell_type": "markdown",
   "metadata": {},
   "source": [
    "Abbiamo quindi circa 6000 utenti e 3600 prodotti diversi. Ricordando che il dataset ha circa mezzo milione di righe questo significa che in media ogni utente ha eseguito 100 acquisti e che ogni prodotto è stato comprato in media 160 volte. "
   ]
  },
  {
   "cell_type": "markdown",
   "metadata": {},
   "source": [
    "### Gender, Age, Occupation e City_Category"
   ]
  },
  {
   "cell_type": "markdown",
   "metadata": {},
   "source": [
    "Qua non occorre andare a vedere particolari tipi visto che sono pretty straight-forward. Sono tutte varibili categoriche.  "
   ]
  },
  {
   "cell_type": "markdown",
   "metadata": {},
   "source": [
    "### Stay_In_Current_Years"
   ]
  },
  {
   "cell_type": "markdown",
   "metadata": {},
   "source": [
    "Questa colonna presenta valori come stringhe. Occorre decidere se vogliamo trasformarla in variabili numerica (mantenendo linearità ma perdendo informazioni 4 o + potrebbe essere 11 anni e quindi immaginare errore) oppure possiamo tenerla categorica ma attenzione alla perdità della linearità."
   ]
  },
  {
   "cell_type": "markdown",
   "metadata": {},
   "source": [
    "### Marital_Status"
   ]
  },
  {
   "cell_type": "markdown",
   "metadata": {},
   "source": [
    "Anche qua poco da dire. Potrebbe essere interessante andare ad utilizzare interazione di questa variabile insieme ad altri come età, genere o occupazione. "
   ]
  },
  {
   "cell_type": "markdown",
   "metadata": {},
   "source": [
    "## Data Distributions"
   ]
  },
  {
   "cell_type": "markdown",
   "metadata": {},
   "source": [
    "Vedere meglio le distribuzioni marginali delle varie variabili. Chiaramente per quelle per cui ha senso fare questa cosa : \n",
    "- Sesso\n",
    "- Situa matrimoniale\n",
    "- Age\n",
    "- Città\n",
    "- Residenza\n",
    "(quelle con poche modalità essenzialmente)."
   ]
  },
  {
   "cell_type": "code",
   "execution_count": 21,
   "metadata": {},
   "outputs": [],
   "source": [
    "library(ggplot2)\n",
    "options(scipen = 5)"
   ]
  },
  {
   "cell_type": "code",
   "execution_count": 22,
   "metadata": {
    "scrolled": false
   },
   "outputs": [
    {
     "data": {},
     "metadata": {},
     "output_type": "display_data"
    },
    {
     "data": {
      "image/png": "[encoded data removed]",
      "text/plain": [
       "plot without title"
      ]
     },
     "metadata": {},
     "output_type": "display_data"
    }
   ],
   "source": [
    "p <- ggplot(dati, aes(x = Gender, color = Gender, fill = Gender)) + \n",
    "    geom_bar() +\n",
    "    ylab(\"Number of Clients\") \n",
    "\n",
    "p"
   ]
  },
  {
   "cell_type": "markdown",
   "metadata": {},
   "source": [
    "Molti più maschi che femmine, ma con il fatto che sono ripetuti alcuni utenti occorre cambiare il dataset per ottenere informazioni più accurate."
   ]
  },
  {
   "cell_type": "code",
   "execution_count": null,
   "metadata": {
    "scrolled": true
   },
   "outputs": [],
   "source": [
    "sesso_unico <- dati$Gender[dati$User_ID == clienti_unici]\n",
    "length(sesso_unico)"
   ]
  },
  {
   "cell_type": "code",
   "execution_count": 11,
   "metadata": {
    "scrolled": true
   },
   "outputs": [
    {
     "ename": "ERROR",
     "evalue": "Error in distinct(dati, User_ID, Age, Gender, Marital_Status, Occupation, : could not find function \"distinct\"\n",
     "output_type": "error",
     "traceback": [
      "Error in distinct(dati, User_ID, Age, Gender, Marital_Status, Occupation, : could not find function \"distinct\"\nTraceback:\n",
      "1. cbind(distinct(dati, User_ID, Age, Gender, Marital_Status, Occupation, \n .     City_Category, Stay_In_Current_City_Years), purchase_count)"
     ]
    }
   ],
   "source": [
    "tmp <- aggregate(Purchase ~ User_ID, data= dati, sum ) ##COUNTS NUMBER OF PURCHASES\n",
    "names(tmp) <- c(\"User_ID\", \"purchase_count\")\n",
    "\n",
    "\n",
    "purchase_count <- tmp[,2]\n",
    "friday.users <- merge(tmp, dati, by = \"User_ID\", all.y = FALSE)\n",
    "friday.users <- cbind(distinct(dati, User_ID, Age, Gender, Marital_Status, Occupation,\n",
    "                         City_Category, Stay_In_Current_City_Years), purchase_count)\n",
    "\n",
    "head(friday.users)"
   ]
  },
  {
   "cell_type": "code",
   "execution_count": null,
   "metadata": {},
   "outputs": [],
   "source": [
    "p <- ggplot(friday.users, aes(x = Gender, color = Gender, fill = Gender)) + \n",
    "    geom_bar() +\n",
    "    ylab(\"Number of Clients\") \n",
    "\n",
    "p"
   ]
  },
  {
   "cell_type": "markdown",
   "metadata": {},
   "source": [
    "Frequenze molto diminuite ma comunque prevalenza di maschi. Quasi il doppio. "
   ]
  },
  {
   "cell_type": "markdown",
   "metadata": {},
   "source": [
    "### AGE"
   ]
  },
  {
   "cell_type": "code",
   "execution_count": 12,
   "metadata": {},
   "outputs": [
    {
     "ename": "ERROR",
     "evalue": "Error in ggplot(friday.users, aes(x = Age, color = Age, fill = Age)): could not find function \"ggplot\"\n",
     "output_type": "error",
     "traceback": [
      "Error in ggplot(friday.users, aes(x = Age, color = Age, fill = Age)): could not find function \"ggplot\"\nTraceback:\n"
     ]
    }
   ],
   "source": [
    "p2 <- ggplot(friday.users, aes(x = Age, color = Age, fill = Age)) +\n",
    "    geom_bar() \n",
    "   \n",
    "p2"
   ]
  },
  {
   "cell_type": "markdown",
   "metadata": {},
   "source": [
    "La maggior parte dei clienti presenta età compresa tra 26 e i 35. Potrebbe essere interessante vedere come questo si comporta con variabile sesso. "
   ]
  },
  {
   "cell_type": "markdown",
   "metadata": {},
   "source": [
    "### AGE + GENDER"
   ]
  },
  {
   "cell_type": "code",
   "execution_count": null,
   "metadata": {
    "scrolled": false
   },
   "outputs": [],
   "source": [
    "p3 <- ggplot(friday.users, aes(x = Age, fill = Gender)) +\n",
    "    geom_bar() \n",
    "    \n",
    "p3"
   ]
  },
  {
   "cell_type": "markdown",
   "metadata": {},
   "source": [
    "### City Category"
   ]
  },
  {
   "cell_type": "code",
   "execution_count": null,
   "metadata": {},
   "outputs": [],
   "source": [
    "p4 <- ggplot(friday.users, aes(x = City_Category, color = City_Category, fill = City_Category)) +\n",
    "    geom_bar() \n",
    "    \n",
    "p4"
   ]
  },
  {
   "cell_type": "markdown",
   "metadata": {},
   "source": [
    "Prevalenza di clienti provenienti da città di categoria C."
   ]
  },
  {
   "cell_type": "code",
   "execution_count": null,
   "metadata": {},
   "outputs": [],
   "source": [
    "p3 <- ggplot(friday.users, aes(x = City_Category, color = Age, fill = Age)) +\n",
    "    geom_bar() \n",
    "    \n",
    "p3"
   ]
  },
  {
   "cell_type": "markdown",
   "metadata": {},
   "source": [
    "Inutile."
   ]
  },
  {
   "cell_type": "code",
   "execution_count": null,
   "metadata": {},
   "outputs": [],
   "source": [
    "friday.users$Marital_Status <- as.factor(ifelse(friday.users$Marital_Status == 1, 'Married', 'Single'))\n",
    "p5 <- ggplot(friday.users, aes(x = Marital_Status, fill = Marital_Status)) +\n",
    "    geom_bar() \n",
    "    \n",
    "\n",
    "p5"
   ]
  },
  {
   "cell_type": "markdown",
   "metadata": {},
   "source": [
    "Più single che sposati. "
   ]
  },
  {
   "cell_type": "code",
   "execution_count": null,
   "metadata": {},
   "outputs": [],
   "source": [
    "friday.users$Occupation <- as.factor(friday.users$Occupation)\n",
    "p5 <- ggplot(friday.users, aes(x = Occupation, fill = Occupation)) +\n",
    "    geom_bar() \n",
    "\n",
    "p5"
   ]
  },
  {
   "cell_type": "markdown",
   "metadata": {},
   "source": [
    "SArebbe interessante scoprire cosa vogliono dire tutti questi numeretti magari per capire reddito di ogni classe occupazionale."
   ]
  },
  {
   "cell_type": "code",
   "execution_count": null,
   "metadata": {
    "scrolled": false
   },
   "outputs": [],
   "source": [
    "friday.users$Stay_In_Current_City_Years <- as.factor(friday.users$Stay_In_Current_City_Years)\n",
    "p6 <- ggplot(friday.users, aes(x = Stay_In_Current_City_Years, fill = Stay_In_Current_City_Years)) +\n",
    "    geom_bar() \n",
    "p6"
   ]
  },
  {
   "cell_type": "markdown",
   "metadata": {},
   "source": [
    "Interessante notare come la modalità 4 + che dovrebbe poter creare problemi in realtà rappresenta una piccola percentuale della popolazione complessiva.  "
   ]
  },
  {
   "cell_type": "markdown",
   "metadata": {},
   "source": [
    "# DATA "
   ]
  },
  {
   "cell_type": "markdown",
   "metadata": {},
   "source": [
    "Visto che dobbiamo andare a creare un modello per predirre la variabile purchase andiamo adesso a plottare le varie variabili in funzione di purchase."
   ]
  },
  {
   "cell_type": "code",
   "execution_count": null,
   "metadata": {},
   "outputs": [],
   "source": [
    "head(dati)"
   ]
  },
  {
   "cell_type": "code",
   "execution_count": null,
   "metadata": {},
   "outputs": [],
   "source": [
    "p9 <- ggplot(dati, aes(x = Gender, y = Purchase, fill = Gender)) +\n",
    "    geom_boxplot()\n",
    "\n",
    "p9"
   ]
  },
  {
   "cell_type": "code",
   "execution_count": null,
   "metadata": {},
   "outputs": [],
   "source": [
    "p10 <- ggplot(dati, aes(x=Purchase, fill = Gender)) + \n",
    "        #geom_histogram(aes(y=..density..),      # Histogram with density instead of count on y-axis\n",
    "         #          binwidth=.5,\n",
    "         #          colour=\"black\", fill=\"white\") +\n",
    "    geom_density(alpha=.2, fill=\"#FF6666\")\n",
    "\n",
    "p10"
   ]
  },
  {
   "cell_type": "code",
   "execution_count": null,
   "metadata": {
    "scrolled": true
   },
   "outputs": [],
   "source": [
    "uomini <- dati[dati$Gender == \"M\",]\n",
    "\n",
    "head(uomini)"
   ]
  },
  {
   "cell_type": "code",
   "execution_count": null,
   "metadata": {},
   "outputs": [],
   "source": [
    "p10 <- ggplot(uomini, aes(x=Purchase, fill = Gender)) + \n",
    "        #geom_histogram(aes(y=..density..),      # Histogram with density instead of count on y-axis\n",
    "         #          binwidth=.5,\n",
    "         #          colour=\"black\", fill=\"white\") +\n",
    "    geom_density(alpha=.2, fill=\"#FF6666\")\n",
    "\n",
    "p10"
   ]
  },
  {
   "cell_type": "code",
   "execution_count": null,
   "metadata": {},
   "outputs": [],
   "source": [
    "donne <- dati[dati$Gender == \"F\",]"
   ]
  },
  {
   "cell_type": "code",
   "execution_count": null,
   "metadata": {
    "scrolled": true
   },
   "outputs": [],
   "source": [
    "p10 <- ggplot(donne, aes(x=Purchase)) + \n",
    "        #geom_histogram(aes(y=..density..),      # Histogram with density instead of count on y-axis\n",
    "         #          binwidth=.5,\n",
    "         #          colour=\"black\", fill=\"white\") +\n",
    "    geom_density(alpha=.2, fill=\"#FF6666\")\n",
    "\n",
    "p10"
   ]
  },
  {
   "cell_type": "code",
   "execution_count": null,
   "metadata": {},
   "outputs": [],
   "source": [
    "library(reshape2)"
   ]
  },
  {
   "cell_type": "code",
   "execution_count": null,
   "metadata": {},
   "outputs": [],
   "source": [
    "#install.packages(\"plotly\", repos =\"http://cran.us.r-project.org\" )\n",
    "library(plotly)"
   ]
  },
  {
   "cell_type": "code",
   "execution_count": 3,
   "metadata": {},
   "outputs": [
    {
     "data": {
      "text/plain": [
       "                               Df    Sum Sq   Mean Sq F value   Pr(>F)    \n",
       "Stay_In_Current_City_Years      4 1.026e+09 256572659   10.34 2.26e-08 ***\n",
       "Residuals                  537572 1.334e+13  24808857                     \n",
       "---\n",
       "Signif. codes:  0 '***' 0.001 '**' 0.01 '*' 0.05 '.' 0.1 ' ' 1"
      ]
     },
     "metadata": {},
     "output_type": "display_data"
    }
   ],
   "source": [
    "attach(dati)\n",
    "\n",
    "fit <- aov(Purchase ~ Stay_In_Current_City_Years, data=dati)\n",
    "\n",
    "summary(fit)"
   ]
  },
  {
   "cell_type": "code",
   "execution_count": 2,
   "metadata": {},
   "outputs": [],
   "source": [
    "dati$Gender <- as.factor(dati$Gender)\n",
    "dati$Product_Category_1 <- as.factor(dati$Product_Category_1)\n",
    "dati$Occupation <- as.factor(dati$Occupation)\n",
    "dati$Marital_Status <- as.factor(dati$Marital_Status)\n",
    "dati$City_Category <- as.factor(dati$City_Category)\n",
    "dati$Product_Category_2 <- as.factor(dati$Product_Category_2)\n",
    "dati$Product_Category_3 <- as.factor(dati$Product_Category_3)\n",
    "dati$Age <- as.factor(dati$Age)\n",
    "dati$Stay_In_Current_City_Years <- as.factor(dati$Stay_In_Current_City_Years)"
   ]
  },
  {
   "cell_type": "code",
   "execution_count": 3,
   "metadata": {},
   "outputs": [],
   "source": [
    "attach(dati)\n",
    "fit1 <- aov(Purchase ~ Stay_In_Current_City_Years, data=dati)\n",
    "fit2 <- aov(Purchase ~ Gender, data=dati)\n",
    "fit3 <- aov(Purchase ~ Product_Category_1, data=dati)\n",
    "fit4 <- aov(Purchase ~ Occupation, data=dati)\n",
    "fit5 <- aov(Purchase ~ Marital_Status, data=dati)\n",
    "fit6 <- aov(Purchase ~ City_Category, data=dati)\n",
    "fit7 <- aov(Purchase ~ Product_Category_2, data=dati)\n",
    "fit <- aov(Purchase ~ Age, data=dati)\n",
    "fit <- aov(Purchase ~ Product_Category_3, data=dati)\n",
    "fit <- aov(Purchase ~ Gender, data=dati)"
   ]
  },
  {
   "cell_type": "code",
   "execution_count": null,
   "metadata": {},
   "outputs": [],
   "source": []
  },
  {
   "cell_type": "code",
   "execution_count": null,
   "metadata": {},
   "outputs": [],
   "source": [
    " p11 <- ggplot(, aes(Purchase, fill = Gender)) + geom_density(alpha = 0.2)\n",
    "\n",
    "p11\n",
    "\n"
   ]
  },
  {
   "cell_type": "markdown",
   "metadata": {},
   "source": [
    "Vediamo che gli acquisti di uomini e donne sono più o meno gli stessi."
   ]
  },
  {
   "cell_type": "code",
   "execution_count": null,
   "metadata": {},
   "outputs": [],
   "source": [
    "p12 <- ggplot(dati, aes(Purchase, fill = Age)) + geom_density(alpha = 0.2)\n",
    "\n",
    "p12"
   ]
  },
  {
   "cell_type": "code",
   "execution_count": null,
   "metadata": {},
   "outputs": [],
   "source": [
    "p12 <- ggplot(dati, aes(x = Age,y = Purchase, fill = Age)) + geom_boxplot()\n",
    "\n",
    "p12"
   ]
  },
  {
   "cell_type": "code",
   "execution_count": null,
   "metadata": {},
   "outputs": [],
   "source": [
    "fit <- aov(Purchase ~ Age, data=dati)\n",
    "summary(fit)"
   ]
  },
  {
   "cell_type": "markdown",
   "metadata": {},
   "source": [
    "Osservando risultati anova sembra esserci una differenza significativa tra la spesa e l'appartenenza ad una determinata classe d'età."
   ]
  },
  {
   "cell_type": "code",
   "execution_count": null,
   "metadata": {},
   "outputs": [],
   "source": [
    "dati$Marital_Status <- as.factor(dati$Marital_Status)\n",
    "\n",
    "p13 <- ggplot(dati, aes(x = Purchase, fill = Marital_Status)) + geom_density(alpha = 0.2)\n",
    "\n",
    "p13"
   ]
  },
  {
   "cell_type": "markdown",
   "metadata": {},
   "source": [
    "Anche qua non ci sono particolari differenze"
   ]
  },
  {
   "cell_type": "code",
   "execution_count": null,
   "metadata": {},
   "outputs": [],
   "source": [
    "dati$City_Category <- as.factor(dati$City_Category)\n",
    "\n",
    "p14 <- ggplot(dati, aes(x = Purchase, fill = City_Category)) + geom_density(alpha = 0.2)\n",
    "\n",
    "p14"
   ]
  },
  {
   "cell_type": "markdown",
   "metadata": {},
   "source": [
    "No particolari differenze "
   ]
  },
  {
   "cell_type": "code",
   "execution_count": null,
   "metadata": {},
   "outputs": [],
   "source": [
    "dati$Product_Category_1 <- as.factor(dati$Product_Category_1)\n",
    "\n",
    "p15 <- ggplot(dati, aes(x = Purchase, fill = Product_Category_1)) + geom_density(alpha = 0.2)\n",
    "\n",
    "p15"
   ]
  },
  {
   "cell_type": "markdown",
   "metadata": {},
   "source": [
    "Si notano comportamenti molto diversi a seconda della categoria."
   ]
  },
  {
   "cell_type": "code",
   "execution_count": null,
   "metadata": {},
   "outputs": [],
   "source": [
    "dati$Product_Category_2 <- as.factor(dati$Product_Category_2)\n",
    "\n",
    "p15 <- ggplot(dati, aes(x = Purchase, fill = Product_Category_2)) + geom_density(alpha = 0.2)\n",
    "\n",
    "p15"
   ]
  },
  {
   "cell_type": "markdown",
   "metadata": {},
   "source": [
    "Notiamo comportamenti meno simili rispetto a quelli osservati nel Product1. Dobbiamo inoltre ricordarci che quando leggiamo 0 in realtà stiamo leggendo i valori mancanti"
   ]
  },
  {
   "cell_type": "code",
   "execution_count": null,
   "metadata": {},
   "outputs": [],
   "source": [
    "dati$Product_Category_3 <- as.factor(dati$Product_Category_3)\n",
    "\n",
    "p15 <- ggplot(dati, aes(x = Purchase, fill = Product_Category_3)) + geom_density(alpha = 0.2)\n",
    "\n",
    "p15"
   ]
  },
  {
   "cell_type": "markdown",
   "metadata": {},
   "source": [
    "Anche qua i comportamenti tendono ad essere molto più simili. Sempre ricordare dello 0 = NA"
   ]
  },
  {
   "cell_type": "code",
   "execution_count": 26,
   "metadata": {},
   "outputs": [
    {
     "data": {},
     "metadata": {},
     "output_type": "display_data"
    },
    {
     "data": {
      "image/png": "[encoded data removed]",
      "text/plain": [
       "plot without title"
      ]
     },
     "metadata": {},
     "output_type": "display_data"
    }
   ],
   "source": [
    "library(ggplot2)\n",
    "dati$Stay_In_Current_City_Years <- as.factor(dati$Stay_In_Current_City_Years)\n",
    "\n",
    "p15 <- ggplot(dati, aes(x = Purchase, fill = Stay_In_Current_City_Years)) + geom_density(alpha = 0.2)\n",
    "\n",
    "p15"
   ]
  },
  {
   "cell_type": "code",
   "execution_count": 28,
   "metadata": {},
   "outputs": [
    {
     "name": "stderr",
     "output_type": "stream",
     "text": [
      "also installing the dependencies 'TH.data', 'sandwich', 'modeltools', 'mvtnorm', 'multcomp'\n",
      "\n"
     ]
    },
    {
     "name": "stdout",
     "output_type": "stream",
     "text": [
      "package 'TH.data' successfully unpacked and MD5 sums checked\n",
      "package 'sandwich' successfully unpacked and MD5 sums checked\n",
      "package 'modeltools' successfully unpacked and MD5 sums checked\n",
      "package 'mvtnorm' successfully unpacked and MD5 sums checked\n",
      "package 'multcomp' successfully unpacked and MD5 sums checked\n",
      "package 'coin' successfully unpacked and MD5 sums checked\n",
      "\n",
      "The downloaded binary packages are in\n",
      "\tC:\\Users\\ziki\\AppData\\Local\\Temp\\RtmpCiLqKe\\downloaded_packages\n"
     ]
    }
   ],
   "source": [
    "install.packages(\"coin\",repos = \"http://cran.us.r-project.org\")"
   ]
  },
  {
   "cell_type": "code",
   "execution_count": 32,
   "metadata": {},
   "outputs": [
    {
     "name": "stdout",
     "output_type": "stream",
     "text": [
      "package 'lattice' successfully unpacked and MD5 sums checked\n",
      "\n",
      "The downloaded binary packages are in\n",
      "\tC:\\Users\\ziki\\AppData\\Local\\Temp\\RtmpCiLqKe\\downloaded_packages\n"
     ]
    }
   ],
   "source": [
    "#install.packages(\"lattice\",repos = \"http://cran.us.r-project.org\")"
   ]
  },
  {
   "cell_type": "code",
   "execution_count": 33,
   "metadata": {},
   "outputs": [
    {
     "name": "stderr",
     "output_type": "stream",
     "text": [
      "Warning message:\n",
      "\"package 'coin' was built under R version 3.5.2\"Loading required package: survival\n"
     ]
    },
    {
     "data": {
      "text/plain": [
       "\n",
       "\tAsymptotic General Independence Test\n",
       "\n",
       "data:  Purchase by\n",
       "\t Stay_In_Current_City_Years (0, 1, 2, 3, 4+)\n",
       "maxT = 5.0433, p-value = 2.167e-06\n",
       "alternative hypothesis: two.sided\n"
      ]
     },
     "metadata": {},
     "output_type": "display_data"
    }
   ],
   "source": [
    "\n",
    "library(coin)\n",
    "\n",
    "independence_test(Purchase ~ Stay_In_Current_City_Years,\n",
    "                  data = dati)"
   ]
  },
  {
   "cell_type": "code",
   "execution_count": 35,
   "metadata": {},
   "outputs": [
    {
     "name": "stderr",
     "output_type": "stream",
     "text": [
      "Warning message in install.packages(paste(foldername, \"h20\", sep = \"/\"), repos = NULL, :\n",
      "\"installation of package 'C:/Users/ziki/Desktop/MAGISTRALE/PRIMO_SEMESTRE/MLDA/ESAME/PACKAGE/h20' had non-zero exit status\""
     ]
    }
   ],
   "source": [
    "foldername <- 'C:/Users/ziki/Desktop/MAGISTRALE/PRIMO_SEMESTRE/MLDA/ESAME/PACKAGE'\n",
    "install.packages(paste(foldername , 'h20',sep='/'), repos = NULL, type=\"source\")"
   ]
  },
  {
   "cell_type": "code",
   "execution_count": 34,
   "metadata": {},
   "outputs": [
    {
     "ename": "ERROR",
     "evalue": "Error in library(h20, lib.loc = \"C:/Users/ziki/Downloads/h2o_3.20.0.8.tar.gz\"): no library trees found in 'lib.loc'\n",
     "output_type": "error",
     "traceback": [
      "Error in library(h20, lib.loc = \"C:/Users/ziki/Downloads/h2o_3.20.0.8.tar.gz\"): no library trees found in 'lib.loc'\nTraceback:\n",
      "1. library(h20, lib.loc = \"C:/Users/ziki/Downloads/h2o_3.20.0.8.tar.gz\")",
      "2. stop(txt, domain = NA)"
     ]
    }
   ],
   "source": [
    "library(h20, lib.loc='C:/Users/ziki/Downloads/h2o_3.20.0.8.tar.gz')"
   ]
  },
  {
   "cell_type": "markdown",
   "metadata": {},
   "source": [
    "## DATA PREPARTION "
   ]
  },
  {
   "cell_type": "markdown",
   "metadata": {},
   "source": [
    "Creiamo dataset unico così non ripetiamo la stessa persona"
   ]
  },
  {
   "cell_type": "code",
   "execution_count": null,
   "metadata": {},
   "outputs": [],
   "source": [
    "EDA_Distinct <- distinct(dati, User_ID, Age, Gender, Marital_Status,\n",
    "                         Occupation, City_Category, Stay_In_Current_City_Years)\n",
    "head(EDA_Distinct)"
   ]
  },
  {
   "cell_type": "code",
   "execution_count": null,
   "metadata": {},
   "outputs": [],
   "source": [
    "userIDCount <- as.data.frame(table(dati$User_ID))\n",
    "names(userIDCount) <- c(\"User_ID\", \"User_Purchase_Count\")\n",
    "head(userIDCount)"
   ]
  },
  {
   "cell_type": "code",
   "execution_count": null,
   "metadata": {},
   "outputs": [],
   "source": [
    "dati <- merge(x = dati, y = userIDCount, by = \"User_ID\", all.x = TRUE)"
   ]
  },
  {
   "cell_type": "code",
   "execution_count": null,
   "metadata": {},
   "outputs": [],
   "source": [
    "EDA_Distinct <- distinct(dati, User_ID, Age, Gender, Marital_Status, Occupation, City_Category, Stay_In_Current_City_Years, User_Purchase_Count)"
   ]
  },
  {
   "cell_type": "code",
   "execution_count": null,
   "metadata": {},
   "outputs": [],
   "source": [
    "#install.packages(\"reshape2\", repos = \"http://cran.us.r-project.org\")\n",
    "library(reshape2)"
   ]
  },
  {
   "cell_type": "code",
   "execution_count": null,
   "metadata": {},
   "outputs": [],
   "source": [
    "d1 <- summary(friday.users$User_Purchase_Count)\n",
    "\n",
    "p1 <- ggplot(EDA_Distinct, aes(x=User_Purchase_Count)) +geom_density(fill=\"red\", col=\"black\", alpha=0.80) + annotate(geom = \"text\", x = 6, y = 0.0125, label = \"Min\")  + annotate(geom = \"text\", x = 24, y = 0.013, label = \"1st Qu.\") + annotate(geom = \"text\", x = 50, y = 0.0125, label = \"Median\") + annotate(geom = \"text\", x = 90, y = 0.013, label = \"Mean\") + annotate(geom = \"text\", x = 112, y = 0.0125, label = \"3rd Qu.\") + annotate(geom = \"text\", x = 1015, y = 0.0125, label = \"Max\") + geom_vline(xintercept = c(6, 26, 54, 93.37, 117, 1026), size = 0.2, col = 'black') #+ lims(x = )\n",
    "\n",
    "p2 <- ggplot(EDA_Distinct, aes(x=User_Purchase_Count)) +geom_histogram(fill=\"red\", col=\"black\", alpha=0.80) \n",
    "\n",
    "p3 <- ggplot(EDA_Distinct,aes(x= Age,y=User_Purchase_Count, fill=Age)) + geom_boxplot() + facet_grid(Gender~Marital_Status) + labs(x=\"Age\",y=\"Customer Purchase Count\")\n",
    "\n",
    "p4 <- ggplot(EDA_Distinct,aes(x= Occupation,y=User_Purchase_Count, fill=Occupation)) + geom_boxplot() + facet_grid(Gender~Marital_Status) + labs(x=\"Occupation\",y=\"Customer Purchase Count\")\n",
    "\n",
    "p5 <- ggplot(EDA_Distinct,aes(x=Age,y=User_Purchase_Count,fill=Stay_In_Current_City_Years))+geom_boxplot()+facet_grid(City_Category~ Stay_In_Current_City_Years) + labs(x=\"Age\",y=\"Customer Purchase Count\")\n",
    "\n",
    "p5i <- ggplot(EDA_Distinct,aes(x=Age,y=User_Purchase_Count,fill=Stay_In_Current_City_Years))+geom_boxplot()+facet_grid( Stay_In_Current_City_Years ~ City_Category) + labs(x=\"Age\",y=\"Customer Purchase Count\")\n",
    "\n",
    "p6 <- ggplot(EDA_Distinct,aes(x=Age,y=User_Purchase_Count,fill=Marital_Status))+geom_boxplot()+facet_grid(Gender~City_Category) + scale_fill_manual(values=c(\"tan4\",\"limegreen\"))  + labs(x=\"Age\",y=\"Customer Purchase Count\")\n",
    "\n",
    "#grid.arrange(p1, p2, p3, p4 ,p5i ,p6, ncol = 1, nrow = 6); \n",
    "d1;p1;p2;p3;p4;p5;p5i;p6"
   ]
  }
 ],
 "metadata": {
  "kernelspec": {
   "display_name": "R",
   "language": "R",
   "name": "ir"
  },
  "language_info": {
   "codemirror_mode": "r",
   "file_extension": ".r",
   "mimetype": "text/x-r-source",
   "name": "R",
   "pygments_lexer": "r",
   "version": "3.5.1"
  }
 },
 "nbformat": 4,
 "nbformat_minor": 2
}

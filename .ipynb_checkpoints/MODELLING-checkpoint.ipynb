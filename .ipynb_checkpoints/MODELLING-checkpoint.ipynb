{
 "cells": [
  {
   "cell_type": "markdown",
   "metadata": {},
   "source": [
    "# Modelling"
   ]
  },
  {
   "cell_type": "code",
   "execution_count": 23,
   "metadata": {},
   "outputs": [],
   "source": [
    "data.friday <- read.csv(\"BlackFriday.csv\", header=TRUE, na.strings = \"NA\")"
   ]
  },
  {
   "cell_type": "code",
   "execution_count": 24,
   "metadata": {},
   "outputs": [],
   "source": [
    "library(h2o)"
   ]
  },
  {
   "cell_type": "code",
   "execution_count": 25,
   "metadata": {
    "scrolled": true
   },
   "outputs": [
    {
     "name": "stdout",
     "output_type": "stream",
     "text": [
      " Connection successful!\n",
      "\n",
      "R is connected to the H2O cluster: \n",
      "    H2O cluster uptime:         49 minutes 33 seconds \n",
      "    H2O cluster timezone:       Europe/Berlin \n",
      "    H2O data parsing timezone:  UTC \n",
      "    H2O cluster version:        3.20.0.8 \n",
      "    H2O cluster version age:    3 months and 18 days !!! \n",
      "    H2O cluster name:           H2O_started_from_R_ziki_htk359 \n",
      "    H2O cluster total nodes:    1 \n",
      "    H2O cluster total memory:   0.17 GB \n",
      "    H2O cluster total cores:    4 \n",
      "    H2O cluster allowed cores:  4 \n",
      "    H2O cluster healthy:        TRUE \n",
      "    H2O Connection ip:          localhost \n",
      "    H2O Connection port:        54321 \n",
      "    H2O Connection proxy:       NA \n",
      "    H2O Internal Security:      FALSE \n",
      "    H2O API Extensions:         Algos, AutoML, Core V3, Core V4 \n",
      "    R Version:                  R version 3.5.1 (2018-07-02) \n"
     ]
    },
    {
     "name": "stderr",
     "output_type": "stream",
     "text": [
      "Warning message in h2o.clusterInfo():\n",
      "\"\n",
      "Your H2O cluster version is too old (3 months and 18 days)!\n",
      "Please download and install the latest version from http://h2o.ai/download/\""
     ]
    },
    {
     "name": "stdout",
     "output_type": "stream",
     "text": [
      "\n"
     ]
    }
   ],
   "source": [
    "h2o.init(max_mem_size=\"5g\")"
   ]
  },
  {
   "cell_type": "code",
   "execution_count": 26,
   "metadata": {},
   "outputs": [],
   "source": [
    "data.friday$Occupation <- as.factor(data.friday$Occupation)\n",
    "data.friday$User_ID <- as.factor(data.friday$User_ID)\n",
    "data.friday$Marital_Status <- as.factor(data.friday$Marital_Status)\n",
    "data.friday$Product_Category_1 <- as.factor(data.friday$Product_Category_1)\n",
    "data.friday$Product_Category_2 <- as.factor(data.friday$Product_Category_2)\n",
    "data.friday$Product_Category_3 <- as.factor(data.friday$Product_Category_3)\n",
    "data.friday <- data.friday[,-c(1)]"
   ]
  },
  {
   "cell_type": "code",
   "execution_count": 27,
   "metadata": {
    "scrolled": true
   },
   "outputs": [
    {
     "data": {
      "text/html": [
       "<table>\n",
       "<thead><tr><th scope=col>Product_ID</th><th scope=col>Gender</th><th scope=col>Age</th><th scope=col>Occupation</th><th scope=col>City_Category</th><th scope=col>Stay_In_Current_City_Years</th><th scope=col>Marital_Status</th><th scope=col>Product_Category_1</th><th scope=col>Product_Category_2</th><th scope=col>Product_Category_3</th><th scope=col>Purchase</th></tr></thead>\n",
       "<tbody>\n",
       "\t<tr><td>P00069042</td><td>F        </td><td>0-17     </td><td>10       </td><td>A        </td><td>2        </td><td>0        </td><td>3        </td><td>NA       </td><td>NA       </td><td> 8370    </td></tr>\n",
       "\t<tr><td>P00248942</td><td>F        </td><td>0-17     </td><td>10       </td><td>A        </td><td>2        </td><td>0        </td><td>1        </td><td>6        </td><td>14       </td><td>15200    </td></tr>\n",
       "\t<tr><td>P00087842</td><td>F        </td><td>0-17     </td><td>10       </td><td>A        </td><td>2        </td><td>0        </td><td>12       </td><td>NA       </td><td>NA       </td><td> 1422    </td></tr>\n",
       "\t<tr><td>P00085442</td><td>F        </td><td>0-17     </td><td>10       </td><td>A        </td><td>2        </td><td>0        </td><td>12       </td><td>14       </td><td>NA       </td><td> 1057    </td></tr>\n",
       "\t<tr><td>P00285442</td><td>M        </td><td>55+      </td><td>16       </td><td>C        </td><td>4+       </td><td>0        </td><td>8        </td><td>NA       </td><td>NA       </td><td> 7969    </td></tr>\n",
       "\t<tr><td>P00193542</td><td>M        </td><td>26-35    </td><td>15       </td><td>A        </td><td>3        </td><td>0        </td><td>1        </td><td>2        </td><td>NA       </td><td>15227    </td></tr>\n",
       "</tbody>\n",
       "</table>\n"
      ],
      "text/latex": [
       "\\begin{tabular}{r|lllllllllll}\n",
       " Product\\_ID & Gender & Age & Occupation & City\\_Category & Stay\\_In\\_Current\\_City\\_Years & Marital\\_Status & Product\\_Category\\_1 & Product\\_Category\\_2 & Product\\_Category\\_3 & Purchase\\\\\n",
       "\\hline\n",
       "\t P00069042 & F         & 0-17      & 10        & A         & 2         & 0         & 3         & NA        & NA        &  8370    \\\\\n",
       "\t P00248942 & F         & 0-17      & 10        & A         & 2         & 0         & 1         & 6         & 14        & 15200    \\\\\n",
       "\t P00087842 & F         & 0-17      & 10        & A         & 2         & 0         & 12        & NA        & NA        &  1422    \\\\\n",
       "\t P00085442 & F         & 0-17      & 10        & A         & 2         & 0         & 12        & 14        & NA        &  1057    \\\\\n",
       "\t P00285442 & M         & 55+       & 16        & C         & 4+        & 0         & 8         & NA        & NA        &  7969    \\\\\n",
       "\t P00193542 & M         & 26-35     & 15        & A         & 3         & 0         & 1         & 2         & NA        & 15227    \\\\\n",
       "\\end{tabular}\n"
      ],
      "text/markdown": [
       "\n",
       "Product_ID | Gender | Age | Occupation | City_Category | Stay_In_Current_City_Years | Marital_Status | Product_Category_1 | Product_Category_2 | Product_Category_3 | Purchase | \n",
       "|---|---|---|---|---|---|\n",
       "| P00069042 | F         | 0-17      | 10        | A         | 2         | 0         | 3         | NA        | NA        |  8370     | \n",
       "| P00248942 | F         | 0-17      | 10        | A         | 2         | 0         | 1         | 6         | 14        | 15200     | \n",
       "| P00087842 | F         | 0-17      | 10        | A         | 2         | 0         | 12        | NA        | NA        |  1422     | \n",
       "| P00085442 | F         | 0-17      | 10        | A         | 2         | 0         | 12        | 14        | NA        |  1057     | \n",
       "| P00285442 | M         | 55+       | 16        | C         | 4+        | 0         | 8         | NA        | NA        |  7969     | \n",
       "| P00193542 | M         | 26-35     | 15        | A         | 3         | 0         | 1         | 2         | NA        | 15227     | \n",
       "\n",
       "\n"
      ],
      "text/plain": [
       "  Product_ID Gender Age   Occupation City_Category Stay_In_Current_City_Years\n",
       "1 P00069042  F      0-17  10         A             2                         \n",
       "2 P00248942  F      0-17  10         A             2                         \n",
       "3 P00087842  F      0-17  10         A             2                         \n",
       "4 P00085442  F      0-17  10         A             2                         \n",
       "5 P00285442  M      55+   16         C             4+                        \n",
       "6 P00193542  M      26-35 15         A             3                         \n",
       "  Marital_Status Product_Category_1 Product_Category_2 Product_Category_3\n",
       "1 0              3                  NA                 NA                \n",
       "2 0              1                  6                  14                \n",
       "3 0              12                 NA                 NA                \n",
       "4 0              12                 14                 NA                \n",
       "5 0              8                  NA                 NA                \n",
       "6 0              1                  2                  NA                \n",
       "  Purchase\n",
       "1  8370   \n",
       "2 15200   \n",
       "3  1422   \n",
       "4  1057   \n",
       "5  7969   \n",
       "6 15227   "
      ]
     },
     "metadata": {},
     "output_type": "display_data"
    }
   ],
   "source": [
    "head(data.friday)"
   ]
  },
  {
   "cell_type": "code",
   "execution_count": 17,
   "metadata": {},
   "outputs": [
    {
     "name": "stdout",
     "output_type": "stream",
     "text": [
      "  |======================================================================| 100%\n"
     ]
    }
   ],
   "source": [
    "black.hex<-as.h2o(data.friday)"
   ]
  },
  {
   "cell_type": "code",
   "execution_count": 18,
   "metadata": {},
   "outputs": [
    {
     "name": "stdout",
     "output_type": "stream",
     "text": [
      "  |======================================================================| 100%\n"
     ]
    }
   ],
   "source": [
    "model <- h2o.randomForest( y= \"Purchase\", training_frame= black.hex, nfolds=8, ntrees = 20, max_depth = 25, seed = 1)"
   ]
  },
  {
   "cell_type": "code",
   "execution_count": 7,
   "metadata": {},
   "outputs": [
    {
     "name": "stdout",
     "output_type": "stream",
     "text": [
      "Formal class 'H2ORegressionModel' [package \"h2o\"] with 7 slots\n",
      "  ..@ model_id     : chr \"DRF_model_R_1547025258926_1\"\n",
      "  ..@ algorithm    : chr \"drf\"\n",
      "  ..@ parameters   :List of 9\n",
      "  .. ..$ model_id      : chr \"DRF_model_R_1547025258926_1\"\n",
      "  .. ..$ training_frame: chr \"data.friday\"\n",
      "  .. ..$ nfolds        : int 8\n",
      "  .. ..$ ntrees        : int 40\n",
      "  .. ..$ max_depth     : int 25\n",
      "  .. ..$ seed          : int 1\n",
      "  .. ..$ distribution  : chr \"gaussian\"\n",
      "  .. ..$ x             : chr [1:10] \"User_ID\" \"Gender\" \"Age\" \"Occupation\" ...\n",
      "  .. ..$ y             : chr \"Purchase\"\n",
      "  ..@ allparameters:List of 38\n",
      "  .. ..$ model_id                             : chr \"DRF_model_R_1547025258926_1\"\n",
      "  .. ..$ training_frame                       : chr \"data.friday\"\n",
      "  .. ..$ nfolds                               : int 8\n",
      "  .. ..$ keep_cross_validation_predictions    : logi FALSE\n",
      "  .. ..$ keep_cross_validation_fold_assignment: logi FALSE\n",
      "  .. ..$ score_each_iteration                 : logi FALSE\n",
      "  .. ..$ score_tree_interval                  : int 0\n",
      "  .. ..$ fold_assignment                      : chr \"AUTO\"\n",
      "  .. ..$ ignore_const_cols                    : logi TRUE\n",
      "  .. ..$ balance_classes                      : logi FALSE\n",
      "  .. ..$ max_after_balance_size               : num 5\n",
      "  .. ..$ max_confusion_matrix_size            : int 20\n",
      "  .. ..$ max_hit_ratio_k                      : int 0\n",
      "  .. ..$ ntrees                               : int 40\n",
      "  .. ..$ max_depth                            : int 25\n",
      "  .. ..$ min_rows                             : num 1\n",
      "  .. ..$ nbins                                : int 20\n",
      "  .. ..$ nbins_top_level                      : int 1024\n",
      "  .. ..$ nbins_cats                           : int 1024\n",
      "  .. ..$ r2_stopping                          : num 1.8e+308\n",
      "  .. ..$ stopping_rounds                      : int 0\n",
      "  .. ..$ stopping_metric                      : chr \"AUTO\"\n",
      "  .. ..$ stopping_tolerance                   : num 0.001\n",
      "  .. ..$ max_runtime_secs                     : num 0\n",
      "  .. ..$ seed                                 : int 1\n",
      "  .. ..$ build_tree_one_node                  : logi FALSE\n",
      "  .. ..$ mtries                               : int -1\n",
      "  .. ..$ sample_rate                          : num 0.632\n",
      "  .. ..$ binomial_double_trees                : logi FALSE\n",
      "  .. ..$ col_sample_rate_change_per_level     : num 1\n",
      "  .. ..$ col_sample_rate_per_tree             : num 1\n",
      "  .. ..$ min_split_improvement                : num 1e-05\n",
      "  .. ..$ histogram_type                       : chr \"AUTO\"\n",
      "  .. ..$ categorical_encoding                 : chr \"AUTO\"\n",
      "  .. ..$ calibrate_model                      : logi FALSE\n",
      "  .. ..$ distribution                         : chr \"gaussian\"\n",
      "  .. ..$ x                                    : chr [1:10] \"User_ID\" \"Gender\" \"Age\" \"Occupation\" ...\n",
      "  .. ..$ y                                    : chr \"Purchase\"\n",
      "  ..@ have_pojo    : logi TRUE\n",
      "  ..@ have_mojo    : logi TRUE\n",
      "  ..@ model        :List of 19\n",
      "  .. ..$ names                                        : chr [1:11] \"User_ID\" \"Gender\" \"Age\" \"Occupation\" ...\n",
      "  .. ..$ domains                                      :List of 11\n",
      "  .. .. ..$ : chr [1:5891] \"1000001\" \"1000002\" \"1000003\" \"1000004\" ...\n",
      "  .. .. ..$ : chr [1:2] \"F\" \"M\"\n",
      "  .. .. ..$ : chr [1:7] \"0-17\" \"18-25\" \"26-35\" \"36-45\" ...\n",
      "  .. .. ..$ : chr [1:21] \"0\" \"1\" \"10\" \"11\" ...\n",
      "  .. .. ..$ : chr [1:3] \"A\" \"B\" \"C\"\n",
      "  .. .. ..$ : chr [1:5] \"0\" \"1\" \"2\" \"3\" ...\n",
      "  .. .. ..$ : chr [1:2] \"0\" \"1\"\n",
      "  .. .. ..$ : chr [1:18] \"1\" \"10\" \"11\" \"12\" ...\n",
      "  .. .. ..$ : chr [1:17] \"10\" \"11\" \"12\" \"13\" ...\n",
      "  .. .. ..$ : chr [1:15] \"10\" \"11\" \"12\" \"13\" ...\n",
      "  .. .. ..$ : NULL\n",
      "  .. ..$ cross_validation_models                      :List of 8\n",
      "  .. .. ..$ :List of 4\n",
      "  .. .. .. ..$ __meta:List of 3\n",
      "  .. .. .. .. ..$ schema_version: int 3\n",
      "  .. .. .. .. ..$ schema_name   : chr \"ModelKeyV3\"\n",
      "  .. .. .. .. ..$ schema_type   : chr \"Key<Model>\"\n",
      "  .. .. .. ..$ name  : chr \"DRF_model_R_1547025258926_1_cv_1\"\n",
      "  .. .. .. ..$ type  : chr \"Key<Model>\"\n",
      "  .. .. .. ..$ URL   : chr \"/3/Models/DRF_model_R_1547025258926_1_cv_1\"\n",
      "  .. .. ..$ :List of 4\n",
      "  .. .. .. ..$ __meta:List of 3\n",
      "  .. .. .. .. ..$ schema_version: int 3\n",
      "  .. .. .. .. ..$ schema_name   : chr \"ModelKeyV3\"\n",
      "  .. .. .. .. ..$ schema_type   : chr \"Key<Model>\"\n",
      "  .. .. .. ..$ name  : chr \"DRF_model_R_1547025258926_1_cv_2\"\n",
      "  .. .. .. ..$ type  : chr \"Key<Model>\"\n",
      "  .. .. .. ..$ URL   : chr \"/3/Models/DRF_model_R_1547025258926_1_cv_2\"\n",
      "  .. .. ..$ :List of 4\n",
      "  .. .. .. ..$ __meta:List of 3\n",
      "  .. .. .. .. ..$ schema_version: int 3\n",
      "  .. .. .. .. ..$ schema_name   : chr \"ModelKeyV3\"\n",
      "  .. .. .. .. ..$ schema_type   : chr \"Key<Model>\"\n",
      "  .. .. .. ..$ name  : chr \"DRF_model_R_1547025258926_1_cv_3\"\n",
      "  .. .. .. ..$ type  : chr \"Key<Model>\"\n",
      "  .. .. .. ..$ URL   : chr \"/3/Models/DRF_model_R_1547025258926_1_cv_3\"\n",
      "  .. .. ..$ :List of 4\n",
      "  .. .. .. ..$ __meta:List of 3\n",
      "  .. .. .. .. ..$ schema_version: int 3\n",
      "  .. .. .. .. ..$ schema_name   : chr \"ModelKeyV3\"\n",
      "  .. .. .. .. ..$ schema_type   : chr \"Key<Model>\"\n",
      "  .. .. .. ..$ name  : chr \"DRF_model_R_1547025258926_1_cv_4\"\n",
      "  .. .. .. ..$ type  : chr \"Key<Model>\"\n",
      "  .. .. .. ..$ URL   : chr \"/3/Models/DRF_model_R_1547025258926_1_cv_4\"\n",
      "  .. .. ..$ :List of 4\n",
      "  .. .. .. ..$ __meta:List of 3\n",
      "  .. .. .. .. ..$ schema_version: int 3\n",
      "  .. .. .. .. ..$ schema_name   : chr \"ModelKeyV3\"\n",
      "  .. .. .. .. ..$ schema_type   : chr \"Key<Model>\"\n",
      "  .. .. .. ..$ name  : chr \"DRF_model_R_1547025258926_1_cv_5\"\n",
      "  .. .. .. ..$ type  : chr \"Key<Model>\"\n",
      "  .. .. .. ..$ URL   : chr \"/3/Models/DRF_model_R_1547025258926_1_cv_5\"\n",
      "  .. .. ..$ :List of 4\n",
      "  .. .. .. ..$ __meta:List of 3\n",
      "  .. .. .. .. ..$ schema_version: int 3\n",
      "  .. .. .. .. ..$ schema_name   : chr \"ModelKeyV3\"\n",
      "  .. .. .. .. ..$ schema_type   : chr \"Key<Model>\"\n",
      "  .. .. .. ..$ name  : chr \"DRF_model_R_1547025258926_1_cv_6\"\n",
      "  .. .. .. ..$ type  : chr \"Key<Model>\"\n",
      "  .. .. .. ..$ URL   : chr \"/3/Models/DRF_model_R_1547025258926_1_cv_6\"\n",
      "  .. .. ..$ :List of 4\n",
      "  .. .. .. ..$ __meta:List of 3\n",
      "  .. .. .. .. ..$ schema_version: int 3\n",
      "  .. .. .. .. ..$ schema_name   : chr \"ModelKeyV3\"\n",
      "  .. .. .. .. ..$ schema_type   : chr \"Key<Model>\"\n",
      "  .. .. .. ..$ name  : chr \"DRF_model_R_1547025258926_1_cv_7\"\n",
      "  .. .. .. ..$ type  : chr \"Key<Model>\"\n",
      "  .. .. .. ..$ URL   : chr \"/3/Models/DRF_model_R_1547025258926_1_cv_7\"\n",
      "  .. .. ..$ :List of 4\n",
      "  .. .. .. ..$ __meta:List of 3\n",
      "  .. .. .. .. ..$ schema_version: int 3\n",
      "  .. .. .. .. ..$ schema_name   : chr \"ModelKeyV3\"\n",
      "  .. .. .. .. ..$ schema_type   : chr \"Key<Model>\"\n",
      "  .. .. .. ..$ name  : chr \"DRF_model_R_1547025258926_1_cv_8\"\n",
      "  .. .. .. ..$ type  : chr \"Key<Model>\"\n",
      "  .. .. .. ..$ URL   : chr \"/3/Models/DRF_model_R_1547025258926_1_cv_8\"\n",
      "  .. ..$ cross_validation_predictions                 : NULL\n",
      "  .. ..$ cross_validation_holdout_predictions_frame_id: NULL\n",
      "  .. ..$ cross_validation_fold_assignment_frame_id    : NULL\n",
      "  .. ..$ model_summary                                :Classes 'H2OTable' and 'data.frame':\t1 obs. of  9 variables:\n",
      "  .. .. ..$ number_of_trees         : num 40\n",
      "  .. .. ..$ number_of_internal_trees: num 40\n",
      "  .. .. ..$ model_size_in_bytes     : num 63826628\n",
      "  .. .. ..$ min_depth               : num 25\n",
      "  .. .. ..$ max_depth               : num 25\n",
      "  .. .. ..$ mean_depth              : num 25\n",
      "  .. .. ..$ min_leaves              : num 71355\n",
      "  .. .. ..$ max_leaves              : num 86475\n",
      "  .. .. ..$ mean_leaves             : num 78597\n",
      "  .. .. ..- attr(*, \"header\")= chr \"Model Summary\"\n",
      "  .. .. ..- attr(*, \"formats\")= chr [1:9] \"%d\" \"%d\" \"%d\" \"%d\" ...\n",
      "  .. .. ..- attr(*, \"description\")= chr \"\"\n",
      "  .. ..$ scoring_history                              :Classes 'H2OTable' and 'data.frame':\t40 obs. of  6 variables:\n",
      "  .. .. ..$ timestamp        : chr [1:40] \"2019-01-09 10:44:05\" \"2019-01-09 10:44:10\" \"2019-01-09 10:44:15\" \"2019-01-09 10:44:20\" ...\n",
      "  .. .. ..$ duration         : chr [1:40] \"29 min 22.758 sec\" \"29 min 27.680 sec\" \"29 min 32.948 sec\" \"29 min 37.447 sec\" ...\n",
      "  .. .. ..$ number_of_trees  : num [1:40] 0 1 2 3 4 5 6 7 8 9 ...\n",
      "  .. .. ..$ training_rmse    : num [1:40] NaN 3364 3303 3233 3185 ...\n",
      "  .. .. ..$ training_mae     : num [1:40] NaN 2409 2373 2335 2306 ...\n",
      "  .. .. ..$ training_deviance: num [1:40] NaN 11319689 10908049 10454345 10141163 ...\n",
      "  .. .. ..- attr(*, \"header\")= chr \"Scoring History\"\n",
      "  .. .. ..- attr(*, \"formats\")= chr [1:6] \"%s\" \"%s\" \"%d\" \"%.5f\" ...\n",
      "  .. .. ..- attr(*, \"description\")= chr \"\"\n",
      "  .. ..$ training_metrics                             :Formal class 'H2ORegressionMetrics' [package \"h2o\"] with 5 slots\n",
      "  .. .. .. ..@ algorithm: chr \"drf\"\n",
      "  .. .. .. ..@ on_train : logi TRUE\n",
      "  .. .. .. ..@ on_valid : logi FALSE\n",
      "  .. .. .. ..@ on_xval  : logi FALSE\n",
      "  .. .. .. ..@ metrics  :List of 18\n",
      "  .. .. .. .. ..$ __meta                :List of 3\n",
      "  .. .. .. .. .. ..$ schema_version: int 3\n",
      "  .. .. .. .. .. ..$ schema_name   : chr \"ModelMetricsRegressionV3\"\n",
      "  .. .. .. .. .. ..$ schema_type   : chr \"ModelMetricsRegression\"\n",
      "  .. .. .. .. ..$ model                 :List of 4\n",
      "  .. .. .. .. .. ..$ __meta:List of 3\n",
      "  .. .. .. .. .. .. ..$ schema_version: int 3\n",
      "  .. .. .. .. .. .. ..$ schema_name   : chr \"ModelKeyV3\"\n",
      "  .. .. .. .. .. .. ..$ schema_type   : chr \"Key<Model>\"\n",
      "  .. .. .. .. .. ..$ name  : chr \"DRF_model_R_1547025258926_1\"\n",
      "  .. .. .. .. .. ..$ type  : chr \"Key<Model>\"\n",
      "  .. .. .. .. .. ..$ URL   : chr \"/3/Models/DRF_model_R_1547025258926_1\"\n",
      "  .. .. .. .. ..$ model_checksum        : num -8.94e+18\n",
      "  .. .. .. .. ..$ frame                 :List of 4\n",
      "  .. .. .. .. .. ..$ __meta:List of 3\n",
      "  .. .. .. .. .. .. ..$ schema_version: int 3\n",
      "  .. .. .. .. .. .. ..$ schema_name   : chr \"FrameKeyV3\"\n",
      "  .. .. .. .. .. .. ..$ schema_type   : chr \"Key<Frame>\"\n",
      "  .. .. .. .. .. ..$ name  : chr \"data.friday\"\n",
      "  .. .. .. .. .. ..$ type  : chr \"Key<Frame>\"\n",
      "  .. .. .. .. .. ..$ URL   : chr \"/3/Frames/data.friday\"\n",
      "  .. .. .. .. ..$ frame_checksum        : num -3.75e+18\n",
      "  .. .. .. .. ..$ description           : chr \"Metrics reported on Out-Of-Bag training samples\"\n",
      "  .. .. .. .. ..$ model_category        : chr \"Regression\"\n",
      "  .. .. .. .. ..$ scoring_time          : num 1.55e+12\n",
      "  .. .. .. .. ..$ predictions           : NULL\n",
      "  .. .. .. .. ..$ MSE                   : num 8201306\n",
      "  .. .. .. .. ..$ RMSE                  : num 2864\n",
      "  .. .. .. .. ..$ nobs                  : int 537577\n",
      "  .. .. .. .. ..$ custom_metric_name    : NULL\n",
      "  .. .. .. .. ..$ custom_metric_value   : num 0\n",
      "  .. .. .. .. ..$ r2                    : num 0.669\n",
      "  .. .. .. .. ..$ mean_residual_deviance: num 8201306\n",
      "  .. .. .. .. ..$ mae                   : num 2121\n",
      "  .. .. .. .. ..$ rmsle                 : num 0.366\n",
      "  .. ..$ validation_metrics                           :Formal class 'H2ORegressionMetrics' [package \"h2o\"] with 5 slots\n",
      "  .. .. .. ..@ algorithm: chr \"drf\"\n",
      "  .. .. .. ..@ on_train : logi FALSE\n",
      "  .. .. .. ..@ on_valid : logi TRUE\n",
      "  .. .. .. ..@ on_xval  : logi FALSE\n",
      "  .. .. .. ..@ metrics  : NULL\n",
      "  .. ..$ cross_validation_metrics                     :Formal class 'H2ORegressionMetrics' [package \"h2o\"] with 5 slots\n",
      "  .. .. .. ..@ algorithm: chr \"drf\"\n",
      "  .. .. .. ..@ on_train : logi FALSE\n",
      "  .. .. .. ..@ on_valid : logi FALSE\n",
      "  .. .. .. ..@ on_xval  : logi TRUE\n",
      "  .. .. .. ..@ metrics  :List of 18\n",
      "  .. .. .. .. ..$ __meta                :List of 3\n",
      "  .. .. .. .. .. ..$ schema_version: int 3\n",
      "  .. .. .. .. .. ..$ schema_name   : chr \"ModelMetricsRegressionV3\"\n",
      "  .. .. .. .. .. ..$ schema_type   : chr \"ModelMetricsRegression\"\n",
      "  .. .. .. .. ..$ model                 :List of 4\n",
      "  .. .. .. .. .. ..$ __meta:List of 3\n",
      "  .. .. .. .. .. .. ..$ schema_version: int 3\n",
      "  .. .. .. .. .. .. ..$ schema_name   : chr \"ModelKeyV3\"\n",
      "  .. .. .. .. .. .. ..$ schema_type   : chr \"Key<Model>\"\n",
      "  .. .. .. .. .. ..$ name  : chr \"DRF_model_R_1547025258926_1\"\n",
      "  .. .. .. .. .. ..$ type  : chr \"Key<Model>\"\n",
      "  .. .. .. .. .. ..$ URL   : chr \"/3/Models/DRF_model_R_1547025258926_1\"\n",
      "  .. .. .. .. ..$ model_checksum        : num -8.94e+18\n",
      "  .. .. .. .. ..$ frame                 :List of 4\n",
      "  .. .. .. .. .. ..$ __meta:List of 3\n",
      "  .. .. .. .. .. .. ..$ schema_version: int 3\n",
      "  .. .. .. .. .. .. ..$ schema_name   : chr \"FrameKeyV3\"\n",
      "  .. .. .. .. .. .. ..$ schema_type   : chr \"Key<Frame>\"\n",
      "  .. .. .. .. .. ..$ name  : chr \"data.friday\"\n",
      "  .. .. .. .. .. ..$ type  : chr \"Key<Frame>\"\n",
      "  .. .. .. .. .. ..$ URL   : chr \"/3/Frames/data.friday\"\n",
      "  .. .. .. .. ..$ frame_checksum        : num -3.75e+18\n",
      "  .. .. .. .. ..$ description           : chr \"8-fold cross-validation on training data (Metrics computed for combined holdout predictions)\"\n",
      "  .. .. .. .. ..$ model_category        : chr \"Regression\"\n",
      "  .. .. .. .. ..$ scoring_time          : num 1.55e+12\n",
      "  .. .. .. .. ..$ predictions           : NULL\n",
      "  .. .. .. .. ..$ MSE                   : num 8116073\n",
      "  .. .. .. .. ..$ RMSE                  : num 2849\n",
      "  .. .. .. .. ..$ nobs                  : int 537577\n",
      "  .. .. .. .. ..$ custom_metric_name    : NULL\n",
      "  .. .. .. .. ..$ custom_metric_value   : num 0\n",
      "  .. .. .. .. ..$ r2                    : num 0.673\n",
      "  .. .. .. .. ..$ mean_residual_deviance: num 8116073\n",
      "  .. .. .. .. ..$ mae                   : num 2113\n",
      "  .. .. .. .. ..$ rmsle                 : num 0.365\n",
      "  .. ..$ cross_validation_metrics_summary             :Classes 'H2OTable' and 'data.frame':\t7 obs. of  10 variables:\n",
      "  .. .. ..$ mean      : chr [1:7] \"2112.9136\" \"8116050.0\" \"8116050.0\" \"0.672869\" ...\n",
      "  .. .. ..$ sd        : chr [1:7] \"5.4423523\" \"42309.195\" \"42309.195\" \"0.0017227508\" ...\n",
      "  .. .. ..$ cv_1_valid: chr [1:7] \"2125.1592\" \"8218399.5\" \"8218399.5\" \"0.6685066\" ...\n",
      "  .. .. ..$ cv_2_valid: chr [1:7] \"2106.6536\" \"8075106.5\" \"8075106.5\" \"0.6741932\" ...\n",
      "  .. .. ..$ cv_3_valid: chr [1:7] \"2123.9548\" \"8191746.0\" \"8191746.0\" \"0.6695467\" ...\n",
      "  .. .. ..$ cv_4_valid: chr [1:7] \"2109.8135\" \"8063601.5\" \"8063601.5\" \"0.6750335\" ...\n",
      "  .. .. ..$ cv_5_valid: chr [1:7] \"2104.4312\" \"8087481.0\" \"8087481.0\" \"0.6729269\" ...\n",
      "  .. .. ..$ cv_6_valid: chr [1:7] \"2117.1619\" \"8136424.0\" \"8136424.0\" \"0.6738781\" ...\n",
      "  .. .. ..$ cv_7_valid: chr [1:7] \"2110.9194\" \"8121721.5\" \"8121721.5\" \"0.67602444\" ...\n",
      "  .. .. ..$ cv_8_valid: chr [1:7] \"2105.215\" \"8033921.0\" \"8033921.0\" \"0.6728428\" ...\n",
      "  .. .. ..- attr(*, \"header\")= chr \"Cross-Validation Metrics Summary\"\n",
      "  .. .. ..- attr(*, \"formats\")= chr [1:10] \"%s\" \"%s\" \"%s\" \"%s\" ...\n",
      "  .. .. ..- attr(*, \"description\")= chr \"\"\n",
      "  .. ..$ status                                       : NULL\n",
      "  .. ..$ start_time                                   : num 1.55e+12\n",
      "  .. ..$ end_time                                     : num 1.55e+12\n",
      "  .. ..$ run_time                                     : int 207396\n",
      "  .. ..$ help                                         :List of 21\n",
      "  .. .. ..$ validation_metrics                           : chr \"Validation data model metrics\"\n",
      "  .. .. ..$ cross_validation_metrics_summary             : chr \"Cross-validation model metrics summary\"\n",
      "  .. .. ..$ run_time                                     : chr \"Runtime in milliseconds\"\n",
      "  .. .. ..$ status                                       : chr \"Job status\"\n",
      "  .. .. ..$ domains                                      : chr \"Domains for categorical columns\"\n",
      "  .. .. ..$ model_category                               : chr \"Category of the model (e.g., Binomial)\"\n",
      "  .. .. ..$ __meta                                       : chr \"Metadata on this schema instance, to make it self-describing.\"\n",
      "  .. .. ..$ variable_importances                         : chr \"Variable Importances\"\n",
      "  .. .. ..$ model_summary                                : chr \"Model summary\"\n",
      "  .. .. ..$ scoring_history                              : chr \"Scoring history\"\n",
      "  .. .. ..$ help                                         : chr \"Help information for output fields\"\n",
      "  .. .. ..$ end_time                                     : chr \"End time in milliseconds\"\n",
      "  .. .. ..$ names                                        : chr \"Column names\"\n",
      "  .. .. ..$ cross_validation_fold_assignment_frame_id    : chr \"Cross-validation fold assignment (each row is assigned to one holdout fold)\"\n",
      "  .. .. ..$ start_time                                   : chr \"Start time in milliseconds\"\n",
      "  .. .. ..$ training_metrics                             : chr \"Training data model metrics\"\n",
      "  .. .. ..$ cross_validation_models                      : chr \"Cross-validation models (model ids)\"\n",
      "  .. .. ..$ cross_validation_metrics                     : chr \"Cross-validation model metrics\"\n",
      "  .. .. ..$ cross_validation_predictions                 : chr \"Cross-validation predictions, one per cv model (deprecated, use cross_validation_holdout_predictions_frame_id instead)\"\n",
      "  .. .. ..$ init_f                                       : chr \"The Intercept term, the initial model function value to which trees make adjustments\"\n",
      "  .. .. ..$ cross_validation_holdout_predictions_frame_id: chr \"Cross-validation holdout predictions (full out-of-sample predictions on training data)\"\n",
      "  .. ..$ variable_importances                         :Classes 'H2OTable' and 'data.frame':\t10 obs. of  4 variables:\n",
      "  .. .. ..$ variable           : chr [1:10] \"Product_Category_1\" \"Product_Category_2\" \"Product_Category_3\" \"User_ID\" ...\n",
      "  .. .. ..$ relative_importance: num [1:10] 1.99e+14 3.52e+13 2.55e+13 1.83e+13 9.58e+12 ...\n",
      "  .. .. ..$ scaled_importance  : num [1:10] 1 0.1773 0.1285 0.0924 0.0483 ...\n",
      "  .. .. ..$ percentage         : num [1:10] 0.6566 0.1164 0.0844 0.0607 0.0317 ...\n",
      "  .. .. ..- attr(*, \"header\")= chr \"Variable Importances\"\n",
      "  .. .. ..- attr(*, \"formats\")= chr [1:4] \"%s\" \"%5f\" \"%5f\" \"%5f\"\n",
      "  .. .. ..- attr(*, \"description\")= chr \"\"\n",
      "  .. ..$ init_f                                       : num 0\n"
     ]
    }
   ],
   "source": [
    "#str(model)"
   ]
  },
  {
   "cell_type": "code",
   "execution_count": 19,
   "metadata": {
    "scrolled": false
   },
   "outputs": [
    {
     "name": "stdout",
     "output_type": "stream",
     "text": [
      "Model Details:\n",
      "==============\n",
      "\n",
      "H2ORegressionModel: drf\n",
      "Model Key:  DRF_model_R_1547030774323_1 \n",
      "Model Summary: \n",
      "  number_of_trees number_of_internal_trees model_size_in_bytes min_depth\n",
      "1              20                       20            58159004        25\n",
      "  max_depth mean_depth min_leaves max_leaves  mean_leaves\n",
      "1        25   25.00000      94564     131337 108418.60000\n",
      "\n",
      "H2ORegressionMetrics: drf\n",
      "** Reported on training data. **\n",
      "** Metrics reported on Out-Of-Bag training samples **\n",
      "\n",
      "MSE:  7741442\n",
      "RMSE:  2782.345\n",
      "MAE:  2066.235\n",
      "RMSLE:  0.3564704\n",
      "Mean Residual Deviance :  7741442\n",
      "\n",
      "\n",
      "\n",
      "H2ORegressionMetrics: drf\n",
      "** Reported on cross-validation data. **\n",
      "** 8-fold cross-validation on training data (Metrics computed for combined holdout predictions) **\n",
      "\n",
      "MSE:  7362646\n",
      "RMSE:  2713.42\n",
      "MAE:  2021.959\n",
      "RMSLE:  0.3501082\n",
      "Mean Residual Deviance :  7362646\n",
      "\n",
      "\n",
      "Cross-Validation Metrics Summary: \n",
      "                             mean           sd cv_1_valid cv_2_valid cv_3_valid\n",
      "mae                     2021.9574    2.8736835  2026.3557  2015.1504  2026.6222\n",
      "mean_residual_deviance  7362634.5    17355.457  7385233.5  7338971.5  7390153.0\n",
      "mse                     7362634.5    17355.457  7385233.5  7338971.5  7390153.0\n",
      "r2                     0.70323473 0.0010610004  0.7021128  0.7038941 0.70188284\n",
      "residual_deviance       7362634.5    17355.457  7385233.5  7338971.5  7390153.0\n",
      "rmse                    2713.4138    3.1986518  2717.5786  2709.0535  2718.4836\n",
      "rmsle                  0.35010546 9.3125686E-4 0.35097584 0.35110602 0.35143524\n",
      "                       cv_4_valid cv_5_valid cv_6_valid cv_7_valid cv_8_valid\n",
      "mae                     2019.0247  2018.7197  2023.7494  2026.1921  2019.8456\n",
      "mean_residual_deviance  7324576.0  7341445.0  7382160.5  7386942.0  7351595.0\n",
      "mse                     7324576.0  7341445.0  7382160.5  7386942.0  7351595.0\n",
      "r2                      0.7048166   0.703098 0.70411026  0.7053348 0.70062846\n",
      "residual_deviance       7324576.0  7341445.0  7382160.5  7386942.0  7351595.0\n",
      "rmse                    2706.3953  2709.5103  2717.0132   2717.893  2711.3826\n",
      "rmsle                  0.35078225 0.34931776 0.34942737 0.35061753  0.3471817\n",
      "\n",
      "Scoring History: \n",
      "             timestamp          duration number_of_trees training_rmse\n",
      "1  2019-01-09 11:57:24 10 min  4.898 sec               0            NA\n",
      "2  2019-01-09 11:57:28 10 min  8.988 sec               1    3297.22696\n",
      "3  2019-01-09 11:57:34 10 min 15.084 sec               3    3188.80189\n",
      "4  2019-01-09 11:57:42 10 min 23.560 sec               5    3090.79803\n",
      "5  2019-01-09 11:57:46 10 min 27.676 sec               6    3045.07490\n",
      "6  2019-01-09 11:57:53 10 min 33.870 sec               8    2963.16272\n",
      "7  2019-01-09 11:58:00 10 min 41.270 sec              10    2907.46244\n",
      "8  2019-01-09 11:58:06 10 min 47.524 sec              12    2867.35156\n",
      "9  2019-01-09 11:58:13 10 min 54.792 sec              14    2835.76159\n",
      "10 2019-01-09 11:58:20 11 min  1.548 sec              16    2814.17287\n",
      "11 2019-01-09 11:58:27 11 min  7.869 sec              18    2796.96563\n",
      "12 2019-01-09 11:58:33 11 min 14.633 sec              20    2782.34461\n",
      "   training_mae training_deviance\n",
      "1            NA                NA\n",
      "2    2369.95042    10871705.59388\n",
      "3    2311.33028    10168457.51675\n",
      "4    2251.96191     9553032.45264\n",
      "5    2225.07705     9272481.12336\n",
      "6    2176.74457     8780333.29942\n",
      "7    2142.30567     8453337.85516\n",
      "8    2119.33125     8221704.94638\n",
      "9    2099.37850     8041543.80742\n",
      "10   2085.93100     7919568.91880\n",
      "11   2075.91103     7823016.75573\n",
      "12   2066.23467     7741441.52888\n",
      "\n",
      "Variable Importances: (Extract with `h2o.varimp`) \n",
      "=================================================\n",
      "\n",
      "Variable Importances: \n",
      "                     variable   relative_importance scaled_importance\n",
      "1          Product_Category_1 88250051985408.000000          1.000000\n",
      "2                  Product_ID 19715242065920.000000          0.223402\n",
      "3          Product_Category_2 15611847507968.000000          0.176905\n",
      "4          Product_Category_3 14917447974912.000000          0.169036\n",
      "5                  Occupation  7086134001664.000000          0.080296\n",
      "6  Stay_In_Current_City_Years  3620136288256.000000          0.041021\n",
      "7                         Age  3349838561280.000000          0.037958\n",
      "8               City_Category  1575004405760.000000          0.017847\n",
      "9              Marital_Status  1207714709504.000000          0.013685\n",
      "10                     Gender   983431184384.000000          0.011144\n",
      "   percentage\n",
      "1    0.564559\n",
      "2    0.126124\n",
      "3    0.099873\n",
      "4    0.095431\n",
      "5    0.045332\n",
      "6    0.023159\n",
      "7    0.021430\n",
      "8    0.010076\n",
      "9    0.007726\n",
      "10   0.006291\n"
     ]
    }
   ],
   "source": [
    "summary(model)"
   ]
  },
  {
   "cell_type": "code",
   "execution_count": 9,
   "metadata": {
    "scrolled": false
   },
   "outputs": [
    {
     "data": {
      "text/html": [
       "2848.87218797216"
      ],
      "text/latex": [
       "2848.87218797216"
      ],
      "text/markdown": [
       "2848.87218797216"
      ],
      "text/plain": [
       "[1] 2848.872"
      ]
     },
     "metadata": {},
     "output_type": "display_data"
    }
   ],
   "source": [
    "model@model$cross_validation_metrics@metrics$RMSE"
   ]
  },
  {
   "cell_type": "code",
   "execution_count": 28,
   "metadata": {},
   "outputs": [
    {
     "name": "stdout",
     "output_type": "stream",
     "text": [
      "  |                                                                      |   0%\n",
      "\n",
      "water.exceptions.H2OModelBuilderIllegalArgumentException: Illegal argument(s) for DRF model: DRF_model_R_1547030774323_5_cv_1.  Details: ERRR on field: _ntrees: The tree model will not fit in the driver node's memory (1.4 MB per tree x 40 > 31.9 MB) - try decreasing ntrees and/or max_depth or increasing min_rows!\n",
      "\n",
      "\n",
      "water.exceptions.H2OModelBuilderIllegalArgumentException: Illegal argument(s) for DRF model: DRF_model_R_1547030774323_5_cv_1.  Details: ERRR on field: _ntrees: The tree model will not fit in the driver node's memory (1.4 MB per tree x 40 > 31.9 MB) - try decreasing ntrees and/or max_depth or increasing min_rows!\n",
      "\n",
      "\tat water.exceptions.H2OModelBuilderIllegalArgumentException.makeFromBuilder(H2OModelBuilderIllegalArgumentException.java:20)\n",
      "\tat hex.tree.SharedTree.doScoringAndSaveModel(SharedTree.java:674)\n",
      "\tat hex.tree.SharedTree$Driver.scoreAndBuildTrees(SharedTree.java:424)\n",
      "\tat hex.tree.SharedTree$Driver.computeImpl(SharedTree.java:356)\n",
      "\tat hex.ModelBuilder$Driver.compute2(ModelBuilder.java:214)\n",
      "\tat water.H2O$H2OCountedCompleter.compute(H2O.java:1269)\n",
      "\tat jsr166y.CountedCompleter.exec(CountedCompleter.java:468)\n",
      "\tat jsr166y.ForkJoinTask.doExec(ForkJoinTask.java:263)\n",
      "\tat jsr166y.ForkJoinPool$WorkQueue.runTask(ForkJoinPool.java:974)\n",
      "\tat jsr166y.ForkJoinPool.runWorker(ForkJoinPool.java:1477)\n",
      "\tat jsr166y.ForkJoinWorkerThread.run(ForkJoinWorkerThread.java:104)\n",
      "\n"
     ]
    },
    {
     "ename": "ERROR",
     "evalue": "Error: water.exceptions.H2OModelBuilderIllegalArgumentException: Illegal argument(s) for DRF model: DRF_model_R_1547030774323_5_cv_1.  Details: ERRR on field: _ntrees: The tree model will not fit in the driver node's memory (1.4 MB per tree x 40 > 31.9 MB) - try decreasing ntrees and/or max_depth or increasing min_rows!\n",
     "output_type": "error",
     "traceback": [
      "Error: water.exceptions.H2OModelBuilderIllegalArgumentException: Illegal argument(s) for DRF model: DRF_model_R_1547030774323_5_cv_1.  Details: ERRR on field: _ntrees: The tree model will not fit in the driver node's memory (1.4 MB per tree x 40 > 31.9 MB) - try decreasing ntrees and/or max_depth or increasing min_rows!\nTraceback:\n",
      "1. h2o.randomForest(y = \"Purchase\", training_frame = black.hex, \n .     nfolds = 8, ntrees = 40, max_depth = 20, seed = 1)",
      "2. .h2o.modelJob(\"drf\", parms, h2oRestApiVersion = 3, verbose = verbose)",
      "3. h2o.getFutureModel(job, verbose = verbose)",
      "4. .h2o.__waitOnJob(object@job_key, verboseModelScoringHistory = verbose)",
      "5. tryCatch({\n .     while (keepRunning) {\n .         myJobUrlSuffix <- paste0(.h2o.__JOBS, \"/\", job_key)\n .         rawResponse <- .h2o.doSafeGET(urlSuffix = myJobUrlSuffix)\n .         jsonObject <- .h2o.fromJSON(jsonlite::fromJSON(rawResponse, \n .             simplifyDataFrame = FALSE))\n .         jobs <- jsonObject$jobs\n .         if (length(jobs) > 1) {\n .             stop(\"Job list has more than 1 entry\")\n .         }\n .         else if (length(jobs) == 0) {\n .             stop(\"Job list is empty\")\n .         }\n .         job = jobs[[1]]\n .         status = job$status\n .         stopifnot(is.character(status))\n .         if (status == \"FAILED\") {\n .             cat(\"\\n\\n\")\n .             cat(job$exception)\n .             cat(\"\\n\\n\")\n .             if (!is.null(job$stacktrace)) {\n .                 cat(job$stacktrace)\n .             }\n .             cat(\"\\n\")\n .             m <- strsplit(jobs[[1]]$exception, \"\\n\")[[1]][1]\n .             m <- gsub(\".*msg \", \"\", m)\n .             stop(m, call. = FALSE)\n .         }\n .         if (status == \"CANCELLED\") {\n .             stop(\"Job key \", job_key, \" cancelled by user\")\n .         }\n .         key = job$key\n .         name = key$name\n .         if (name != job_key) {\n .             message <- sprintf(\"Job %s not found in job list\", \n .                 job_key)\n .             stop(message)\n .         }\n .         if (progressBar) {\n .             progress = job$progress\n .             if (is.numeric(progress)) {\n .                 setTxtProgressBar(pb, progress)\n .             }\n .         }\n .         if ((status == \"CREATED\") || (status == \"RUNNING\")) {\n .         }\n .         else {\n .             stopifnot(status == \"DONE\")\n .             keepRunning <- FALSE\n .         }\n .         if (keepRunning) {\n .             Sys.sleep(pollInterval)\n .             if (verboseModelScoringHistory) {\n .                 cat(paste0(\"\\nScoring History for Model \", job$dest$name, \n .                   \" at \", Sys.time(), \"\\n\"))\n .                 print(paste0(\"Model Build is \", job$progress * \n .                   100, \"% done...\"))\n .                 if (!is.null(job$progress_msg)) {\n .                   print(tail(h2o.getModel(job$dest$name)@model$scoring_history))\n .                 }\n .                 else {\n .                   print(\"Scoring history is not available yet...\")\n .                 }\n .             }\n .         }\n .         else {\n .             if (progressBar) {\n .                 close(pb)\n .             }\n .             for (w in job$warnings) {\n .                 warning(w)\n .             }\n .         }\n .     }\n . }, interrupt = function(x) {\n .     url.suf <- paste0(.h2o.__JOBS, \"/\", job_key, \"/cancel\")\n .     .h2o.doSafePOST(urlSuffix = url.suf)\n .     message(paste0(\"\\nJob \", job_key, \" was cancelled.\\n\"))\n .     return()\n . })",
      "6. tryCatchList(expr, classes, parentenv, handlers)",
      "7. tryCatchOne(expr, names, parentenv, handlers[[1L]])",
      "8. doTryCatch(return(expr), name, parentenv, handler)",
      "9. stop(m, call. = FALSE)"
     ]
    }
   ],
   "source": [
    "model <- h2o.randomForest( y= \"Purchase\", training_frame= black.hex, nfolds=8, ntrees = 40, max_depth = 20, seed = 1)"
   ]
  },
  {
   "cell_type": "code",
   "execution_count": null,
   "metadata": {},
   "outputs": [
    {
     "name": "stdout",
     "output_type": "stream",
     "text": [
      "  |=================                                                     |  25%"
     ]
    }
   ],
   "source": [
    "fit2 <- h2o.randomForest( y= \"Purchase\", training_frame= black.hex, nfolds=8, ntrees = 50, max_depth = 25, seed = 1)"
   ]
  }
 ],
 "metadata": {
  "kernelspec": {
   "display_name": "R",
   "language": "R",
   "name": "ir"
  },
  "language_info": {
   "codemirror_mode": "r",
   "file_extension": ".r",
   "mimetype": "text/x-r-source",
   "name": "R",
   "pygments_lexer": "r",
   "version": "3.5.1"
  }
 },
 "nbformat": 4,
 "nbformat_minor": 2
}
